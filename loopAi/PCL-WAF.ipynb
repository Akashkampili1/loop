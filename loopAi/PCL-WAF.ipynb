{
 "cells": [
  {
   "cell_type": "code",
   "execution_count": 1,
   "id": "6314cadb-ffe3-4282-8b29-12e04f5cc423",
   "metadata": {},
   "outputs": [],
   "source": [
    "from http.server import SimpleHTTPRequestHandler,HTTPServer\n",
    "from urllib import request,error\n",
    "import urllib.parse\n",
    "import http.cookiejar\n",
    "import sys\n",
    "import requests\n",
    "from pycaret.classification import *\n",
    "import pandas as pd\n",
    "import logging\n",
    "import re\n",
    "from datetime import datetime\n",
    "\n"
   ]
  },
  {
   "cell_type": "code",
   "execution_count": 2,
   "id": "b347e77c-193e-4827-80a8-ff8e13bcdbdd",
   "metadata": {
    "scrolled": true
   },
   "outputs": [
    {
     "name": "stdout",
     "output_type": "stream",
     "text": [
      "Transformation Pipeline and Model Successfully Loaded\n"
     ]
    }
   ],
   "source": [
    "#Logging\n",
    "logging.basicConfig(filename='server.log', level=logging.INFO, format='%(asctime)s - %(message)s')  \n",
    "\n",
    "\n",
    "model = load_model('PclBuild')\n",
    "\n",
    "cookies = http.cookiejar.CookieJar()\n",
    "\n",
    "\n",
    "\n",
    "bad_words = ['sleep', 'drop', 'uid', 'select', 'waitfor', 'delay', 'system', 'union', 'order by', 'delete', 'group by', 'insert', 'or']\n",
    "xss = ['script','img','a','javascript','svg','onclick']\n",
    "cmd = ['id','ls','dir','ping','uname','exec','nc','bash']"
   ]
  },
  {
   "cell_type": "code",
   "execution_count": 3,
   "id": "dedb8c91-b0ec-412c-88a4-bbb8fa48a46c",
   "metadata": {},
   "outputs": [],
   "source": [
    "def cmdi_check(path,body):\n",
    "\n",
    "    cmdi_patterns = [\n",
    "      r'(?:;|&|\\||`|\\$\\(.*\\)|\\b(?:exec|system|shell_exec|passthru|popen|proc_open|pcntl_exec|eval|etc|bin|ls|id|uname|dir|ping|nc|bash)\\b)',\n",
    "      r'(?:;|&|\\||`|\\$\\(.*\\)|\\b(?:exec|system|shell_exec|passthru|popen|proc_open|pcntl_exec|eval|etc|bin|ls|id|uname|dir|ping|nc|bash)\\b)\\s*',\n",
    "      r'(?:;|&|\\||`|\\$\\(.*\\)|\\b(?:exec|system|shell_exec|passthru|popen|proc_open|pcntl_exec|eval|etc|bin|ls|id|uname|dir|ping|nc|bash)\\b)\\s*[\\\\\"\\']?[^\\\\n\\\\r]*',\n",
    "      r'(?:;|&|\\||`|\\$\\(.*\\)|\\b(?:exec|system|shell_exec|passthru|popen|proc_open|pcntl_exec|eval|etc|bin|ls|id|uname|dir|ping|nc|bash)\\b)\\s*[\\\\\"\\']?[^\\\\\"\\']*[\\\\\"\\']?',\n",
    "      r'(?:;|&|\\||`|\\$\\(.*\\)|\\b(?:exec|system|shell_exec|passthru|popen|proc_open|pcntl_exec|eval|etc|bin|ls|id|uname|dir|ping|nc|bash)\\b)[\\s\\w]*',\n",
    "      r'(?:;|&|\\||`|\\$\\(.*\\)|\\b(?:exec|system|shell_exec|passthru|popen|proc_open|pcntl_exec|eval|etc|bin|ls|id|uname|dir|ping|nc|bash)\\b)[^\\r\\n]*'\n",
    "\n",
    "    ]\n",
    "\n",
    "    counter = 0\n",
    "    #cmdi_pattern = r'(?:;|&|\\||`|\\$\\(|\\b(?:exec|system|shell_exec|passthru|popen|proc_open|pcntl_exec|eval|etc|bin|ls|id|uname|dir|ping|nc|bash)\\b)'\n",
    "    for pattern in cmdi_patterns:\n",
    "\n",
    "        if re.search(pattern,path) or  re.search(pattern,body):\n",
    "            counter+=1\n",
    "    return counter\n",
    "\n",
    "\n",
    "def regex_xss_check(path):\n",
    "     \n",
    "    xss_patterns = [\n",
    "        r'<script\\s[^>]*>[\\s\\S]*?<',\n",
    "        r'(on\\w+)=[\"\\'](.*?)[\"\\']',\n",
    "        r'<img\\s[^>]*\\son\\w+=[\"\\'](.*?)[\"\\'][^>]*>',\n",
    "        r'href=[\"\\'](javascript:[^\"\\']+)[\"\\']',\n",
    "        r'\\bjavascript:\\s*[^;]+;'\n",
    "    ]\n",
    "    count = 0\n",
    "     \n",
    "\n",
    "    for pattern in xss_patterns:\n",
    "        if re.search(pattern, path):\n",
    "            count=count+1\n",
    "            \n",
    "\n",
    "    return count\n",
    "\n",
    "\n",
    "\n",
    "\n",
    "\n",
    "def extractDF(method,path,body):\n",
    "    path = urllib.parse.unquote(path)\n",
    "    single_quotes = path.count(\"'\") + body.count(\"'\")\n",
    "    double_quotes = path.count('\"') + body.count('\"')\n",
    "    dashes = path.count('--') + body.count('--')\n",
    "    braces = path.count('{') + path.count('}') + path.count('(') + body.count('{') + body.count('}') + body.count('(')\n",
    "    spaces = path.count(' ') + body.count(\" \")\n",
    "    tags = path.count('<') + path.count('>')+ body.count('<')+body.count('>')\n",
    "    colons = path.count(';')+body.count(';')\n",
    "    backtick = path.count('`')+body.count('`')\n",
    "    bad_words_count1 = sum(1 for word in bad_words if re.search(r'\\b' + re.escape(word) + r'\\b', path, re.IGNORECASE))\n",
    "    bad_words_count2 = sum(1 for word in bad_words if re.search(r'\\b' + re.escape(word) + r'\\b', body, re.IGNORECASE))\n",
    "    xss_count1 = sum(1 for word in xss if re.search(r'\\b' + re.escape(word) + r'\\b', path, re.IGNORECASE))\n",
    "    xss_count2 = sum(1 for word in xss if re.search(r'\\b' + re.escape(word) + r'\\b', body, re.IGNORECASE))\n",
    "    bad_words_count = bad_words_count1+ bad_words_count2\n",
    "    xss_count = xss_count1+xss_count2\n",
    "    xss_check = regex_xss_check(path)\n",
    "    cmdi_c = cmdi_check(path,body)\n",
    "    cmdi_words1 = sum(1 for word in cmd if re.search(r'\\b' + re.escape(word) + r'\\b', path, re.IGNORECASE))\n",
    "    cmdi_words2 = sum(1 for word in cmd if re.search(r'\\b' + re.escape(word) + r'\\b', body, re.IGNORECASE))\n",
    "    cmdi_words = cmdi_words1+cmdi_words2\n",
    "\n",
    "\n",
    "\n",
    "    datas = [single_quotes, double_quotes, dashes, braces, spaces,tags,colons,backtick, bad_words_count,xss_check,xss_count,cmdi_words,cmdi_c]\n",
    "    \n",
    "    log_data = [method,path,body]\n",
    "    \n",
    "    input = pd.DataFrame([datas], columns=['Single Quotes', 'Double Quotes', 'Dashes', 'Braces', 'Spaces','Tags','Colons','Backtick', 'Bad Words','XSS Check','XSS Word','Cmdi Word','Cmdi Check'])\n",
    "    \n",
    "    log = pd.DataFrame([log_data],columns=['Method','Path','Body'])\n",
    "    return input,log\n",
    "\n",
    "def prediction(input):\n",
    "    prediction = predict_model(model,data=input)\n",
    " \n",
    "    return prediction\n"
   ]
  },
  {
   "cell_type": "code",
   "execution_count": 4,
   "id": "e0d80a6b-ec22-4116-b003-393c625ecd04",
   "metadata": {},
   "outputs": [],
   "source": [
    "import logging\n",
    "from http.server import SimpleHTTPRequestHandler, HTTPServer\n",
    "from datetime import datetime\n",
    "import pandas as pd\n",
    "from urllib import request\n",
    "import requests\n",
    "import socket\n",
    "\n",
    "# Configure logging\n",
    "logging.basicConfig(filename='http_traffic.log', level=logging.INFO, format='%(asctime)s - %(message)s')\n",
    "\n",
    "# Define your functions here\n",
    "\n",
    "class SimpleHttpProxy(SimpleHTTPRequestHandler):\n",
    "\n",
    "    @classmethod\n",
    "    def set_routes(cls, proxy_routes):\n",
    "        cls.proxy_routes = proxy_routes\n",
    "\n",
    "    def log_request_info(self, method, path, prediction, ip, status_code):\n",
    "        log_message = f\"Method: {method}, Path: {path}, Prediction: {prediction}, IP: {ip}, Status Code: {status_code}\\n\"\n",
    "        with open('http_traffic.log', 'a') as log_file:\n",
    "            log_file.write(log_message)\n",
    "        data = {\n",
    "        'method': method,\n",
    "        'path': path,\n",
    "        'prediction': prediction,\n",
    "        'ip': ip,\n",
    "        'statusCode': status_code\n",
    "        }\n",
    "        # Replace 'https://api.example.com' with your API endpoint\n",
    "        api_endpoint = 'http://localhost:5000/api/logMessage'\n",
    "        try:\n",
    "            response = requests.post(api_endpoint, json=data)\n",
    "            if response.status_code == 200:\n",
    "                print(\"Log data sent to API successfully.\")\n",
    "            else:\n",
    "                print(f\"Failed to send log data to API. Status code: {response.status_code}\")\n",
    "        except Exception as e:\n",
    "            print(f\"Error occurred while sending log data to API: {e}\")\n",
    "\n",
    "\n",
    "\n",
    "    def do_GET(self) -> None:\n",
    "        try:\n",
    "            body = ''\n",
    "            path = self.path\n",
    "            method = self.command\n",
    "            headers = self.headers\n",
    "            full_url = f'{path}'\n",
    "            \n",
    "            response = request.urlopen(full_url)\n",
    "            status_code = response.status\n",
    "            content = response.read()\n",
    "    \n",
    "            inp, log = extractDF(method, path, body)\n",
    "            pred = prediction(inp)\n",
    "    \n",
    "            result = pd.concat([log, pred], axis=1)\n",
    "            result.to_csv('log_dataset.csv', mode='a', header=False, index=False)\n",
    "    \n",
    "            pp = pred['prediction_label'].to_string()\n",
    "            \n",
    "            ip = self.client_address[0]\n",
    "            self.log_request_info(method, path, pp, ip, status_code)\n",
    "    \n",
    "            if 'good' in pp:\n",
    "                self.send_response(200)\n",
    "                self.send_header('Access-Control-Allow-Origin', '*')  # Allow requests from any origin\n",
    "                self.end_headers()\n",
    "                self.wfile.write(content)\n",
    "            else:\n",
    "                self.send_response(403)\n",
    "                self.end_headers()\n",
    "                # Custom HTML response\n",
    "                custom_html = f\"\"\"\n",
    "                <!DOCTYPE html>\n",
    "                <html lang=\"en\" style=\"height: 95%;\">\n",
    "                <head>\n",
    "                    <meta charset=\"utf-8\">\n",
    "                    <meta name=\"viewport\" content=\"width=device-width, initial-scale=1.0\">\n",
    "                    <title>403 Forbidden</title>\n",
    "                    <style>\n",
    "                        p {{\n",
    "                            line-height: 20px;\n",
    "                        }};\n",
    "                    </style>\n",
    "                </head>\n",
    "                <body style=\"font-family: sans-serif; height: 100%;\">\n",
    "                    <div style=\"display: flex; justify-content: center; align-items: center; height: 100%;\">\n",
    "                        <div style=\"max-width: 90%; word-wrap: break-word;\">\n",
    "                            <h1 style=\"margin-bottom: 10px;\">🛑 Request blocked</h1>\n",
    "                            <h3 style=\"font-weight: normal; margin-top: 0px; margin-bottom: 5px; margin-left: 52px;\">403 Forbidden</h3>\n",
    "                            <hr style=\"margin-top: 1rem; margin-bottom: 1rem; border: 0; border-top: 1px solid rgba(0, 0, 0, 0.1);\">\n",
    "                            <p>This website uses a firewall to protect itself from online attacks.<br>\n",
    "                                You have sent a suspicious request, therefore your request has been blocked.<br>\n",
    "                                <strong>This is a custom blocked page.</strong></p>\n",
    "                            <hr style=\"margin-top: 1rem; margin-bottom: 1rem; border: 0; border-top: 1px solid rgba(0, 0, 0, 0.1);\">\n",
    "                            <p id=\"dynamicContent\">Time: <span id=\"dateTime\"></span><br>\n",
    "                Your IP: <span id=\"ip\"></span><br>\n",
    "                Country: <span id=\"country\"></span><br>\n",
    "                Region: <span id=\"regionName\"></span><br>\n",
    "                City: <span id=\"city\"></span><br>\n",
    "                Zip: <span id=\"zip\"></span><br>\n",
    "                Latitude: <span id=\"lat\"></span><br>\n",
    "                Longitude: <span id=\"lon\"></span><br>                \n",
    "                ISP: <span id=\"isp\"></span><br>\n",
    "                Organization: <span id=\"org\"></span><br>\n",
    "                                \n",
    "                                Reference ID: <span id=\"referenceID\"></span><br>\n",
    "                                Attack Type: {pp.split()[-1].upper()}</p>\n",
    "                        </div>\n",
    "                    </div>\n",
    "                    <script>\n",
    "                    const referenceID = generateUID();\n",
    "                        // Function to generate random UID\n",
    "                        function generateUID() {{\n",
    "                            return 'xxxxxxxx-xxxx-4xxx-yxxx-xxxxxxxxxxxx'.replace(/[xy]/g, function(c) {{\n",
    "                                var r = Math.random() * 16 | 0,\n",
    "                                    v = c == 'x' ? r : (r & 0x3 | 0x8);\n",
    "                                return v.toString(16);\n",
    "                            }});\n",
    "                        }}\n",
    "                    \n",
    "                        // Function to get IP address\n",
    "                        async function getIP(attackType) {{\n",
    "                            const response = await fetch('http://api.ipify.org?format=json');\n",
    "                            const data = await response.json();\n",
    "                            const ip_data = await fetch(`http://ip-api.com/json/${{data.ip}}`);\n",
    "                            const ip_data_response = await ip_data.json();\n",
    "                            const {{query,country,regionName,city,zip,lat,lon,isp,org}} = ip_data_response;\n",
    "                            const responseObject = {{referenceID,query,country,regionName,city,zip,lat,lon,isp,org, attackType}};\n",
    "            \n",
    "                            try {{\n",
    "                                const response = await fetch('http://localhost:5000/api/logData', {{\n",
    "                                    method: 'POST',\n",
    "                                    headers: {{\n",
    "                                        'Content-Type': 'application/json'\n",
    "                                    }},\n",
    "                                    body: JSON.stringify(responseObject)\n",
    "                                }});\n",
    "                                console.log('Data sent successfully:', await response.text());\n",
    "                            }} catch (error) {{\n",
    "                                console.error('Error sending data:', error);\n",
    "                            }}\n",
    "                            \n",
    "                            return responseObject;\n",
    "                        }}\n",
    "                    \n",
    "                        document.getElementById('dateTime').innerText = new Date().toLocaleString();\n",
    "                        getIP('{pp.split()[-1].upper()}').then(ip => {{\n",
    "                            document.getElementById('ip').innerText = ip.query;\n",
    "                            document.getElementById('country').innerText = ip.country;\n",
    "                            document.getElementById('regionName').innerText = ip.regionName;\n",
    "                            document.getElementById('city').innerText = ip.city;\n",
    "                            document.getElementById('zip').innerText = ip.zip;\n",
    "                            document.getElementById('lat').innerText = ip.lat;\n",
    "                            document.getElementById('lon').innerText = ip.lon;\n",
    "                            document.getElementById('isp').innerText = ip.isp;\n",
    "                            document.getElementById('org').innerText = ip.org;\n",
    "                        }});\n",
    "                        document.getElementById('referenceID').innerText = referenceID;\n",
    "                    </script>\n",
    "                </body>\n",
    "                </html>\n",
    "                \"\"\"\n",
    "                self.wfile.write(custom_html.encode('utf-8'))\n",
    "    \n",
    "                try:\n",
    "                    resp = requests.post(nttfy_docker, data=data)\n",
    "                    resp.raise_for_status()\n",
    "                except requests.exceptions.HTTPError as err:\n",
    "                    print(f\"HTTP Error {resp.status_code}: {err}\")\n",
    "                except requests.exceptions.RequestException as err:\n",
    "                    print(f\"Request Error: {err}\")\n",
    "        except Exception as e:\n",
    "            logging.error(f\"Error in the GET request: {str(e)}\")\n",
    "\n",
    "    def do_POST(self) -> None:\n",
    "        try:\n",
    "            content_length = int(self.headers['Content-Length'])\n",
    "            post_body = self.rfile.read(content_length).decode('utf-8')\n",
    "            path = self.path\n",
    "            method = self.command\n",
    "            headers = self.headers\n",
    "            full_url = f'{path}'\n",
    "            body = post_body\n",
    "            \n",
    "            response = request.urlopen(full_url)\n",
    "            status_code = response.status\n",
    "            content = response.read()\n",
    "\n",
    "            inp,log = extractDF(method,path,body)\n",
    "            \n",
    "            pred = prediction(inp)\n",
    "\n",
    "            result = pd.concat([log,pred],axis=1)\n",
    "\n",
    "            result.to_csv('log_dataset.csv',mode='a',header=False,index=False) \n",
    "        \n",
    "            pp = pred['prediction_label'].to_string()\n",
    "            \n",
    "            ip = self.client_address[0]\n",
    "            self.log_request_info(method, path, pp, ip, status_code)\n",
    "            \n",
    "            if 'good' in pp:\n",
    "                self.send_response(200)\n",
    "                self.send_header('Access-Control-Allow-Origin', '*')  # Allow requests from any origin\n",
    "                self.end_headers()\n",
    "                self.wfile.write(content)\n",
    "                \n",
    "            else:\n",
    "                \n",
    "                self.send_response(403)\n",
    "                self.end_headers()\n",
    "                self.wfile.write(b\"Blocked by THE AI Firewall - contact @akashkampili\")\n",
    "                \n",
    "                try:\n",
    "                    resp = requests.post(nttfy_docker,data=data)\n",
    "                    resp.raise_for_status()\n",
    "                except requests.exceptions.HTTPError as err:\n",
    "                    print(f\"HTTP Error {resp.status_code}: {err}\")\n",
    "    \t\t        \n",
    "                except requests.exceptions.RequestException as err:\n",
    "                    print(f\"Request Error: {err}\")\n",
    "        except Exception as e:\n",
    "            logging.error(f\"Error in POST requests: {str(e)}\")\n"
   ]
  },
  {
   "cell_type": "code",
   "execution_count": null,
   "id": "2b362f5b-6f47-49d6-9092-9295f7c37e99",
   "metadata": {},
   "outputs": [
    {
     "name": "stdout",
     "output_type": "stream",
     "text": [
      "Log data sent to API successfully.\n"
     ]
    },
    {
     "name": "stderr",
     "output_type": "stream",
     "text": [
      "127.0.0.1 - - [08/May/2024 10:24:41] \"GET http://detectportal.firefox.com/canonical.html HTTP/1.1\" 200 -\n",
      "127.0.0.1 - - [08/May/2024 10:24:41] code 501, message Unsupported method ('CONNECT')\n",
      "127.0.0.1 - - [08/May/2024 10:24:41] \"CONNECT incoming.telemetry.mozilla.org:443 HTTP/1.1\" 501 -\n"
     ]
    },
    {
     "name": "stdout",
     "output_type": "stream",
     "text": [
      "Log data sent to API successfully.\n"
     ]
    },
    {
     "name": "stderr",
     "output_type": "stream",
     "text": [
      "127.0.0.1 - - [08/May/2024 10:24:47] \"GET http://detectportal.firefox.com/success.txt?ipv4 HTTP/1.1\" 200 -\n"
     ]
    },
    {
     "name": "stdout",
     "output_type": "stream",
     "text": [
      "Log data sent to API successfully.\n"
     ]
    },
    {
     "name": "stderr",
     "output_type": "stream",
     "text": [
      "127.0.0.1 - - [08/May/2024 10:24:47] \"GET http://detectportal.firefox.com/success.txt?ipv6 HTTP/1.1\" 200 -\n",
      "127.0.0.1 - - [08/May/2024 10:24:49] code 501, message Unsupported method ('CONNECT')\n",
      "127.0.0.1 - - [08/May/2024 10:24:49] \"CONNECT push.services.mozilla.com:443 HTTP/1.1\" 501 -\n",
      "127.0.0.1 - - [08/May/2024 10:24:56] code 501, message Unsupported method ('CONNECT')\n",
      "127.0.0.1 - - [08/May/2024 10:24:56] \"CONNECT normandy.cdn.mozilla.net:443 HTTP/1.1\" 501 -\n",
      "127.0.0.1 - - [08/May/2024 10:24:56] code 501, message Unsupported method ('CONNECT')\n",
      "127.0.0.1 - - [08/May/2024 10:24:56] \"CONNECT aus5.mozilla.org:443 HTTP/1.1\" 501 -\n",
      "127.0.0.1 - - [08/May/2024 10:24:56] code 501, message Unsupported method ('CONNECT')\n",
      "127.0.0.1 - - [08/May/2024 10:24:56] \"CONNECT content-signature-2.cdn.mozilla.net:443 HTTP/1.1\" 501 -\n",
      "127.0.0.1 - - [08/May/2024 10:24:56] code 501, message Unsupported method ('CONNECT')\n",
      "127.0.0.1 - - [08/May/2024 10:24:56] \"CONNECT content-signature-2.cdn.mozilla.net:443 HTTP/1.1\" 501 -\n",
      "127.0.0.1 - - [08/May/2024 10:24:56] code 501, message Unsupported method ('CONNECT')\n",
      "127.0.0.1 - - [08/May/2024 10:24:56] \"CONNECT content-signature-2.cdn.mozilla.net:443 HTTP/1.1\" 501 -\n",
      "127.0.0.1 - - [08/May/2024 10:24:56] code 501, message Unsupported method ('CONNECT')\n",
      "127.0.0.1 - - [08/May/2024 10:24:56] \"CONNECT content-signature-2.cdn.mozilla.net:443 HTTP/1.1\" 501 -\n",
      "127.0.0.1 - - [08/May/2024 10:24:56] code 501, message Unsupported method ('CONNECT')\n",
      "127.0.0.1 - - [08/May/2024 10:24:56] \"CONNECT content-signature-2.cdn.mozilla.net:443 HTTP/1.1\" 501 -\n",
      "127.0.0.1 - - [08/May/2024 10:24:56] code 501, message Unsupported method ('CONNECT')\n",
      "127.0.0.1 - - [08/May/2024 10:24:56] \"CONNECT content-signature-2.cdn.mozilla.net:443 HTTP/1.1\" 501 -\n",
      "127.0.0.1 - - [08/May/2024 10:24:56] code 501, message Unsupported method ('CONNECT')\n",
      "127.0.0.1 - - [08/May/2024 10:24:56] \"CONNECT content-signature-2.cdn.mozilla.net:443 HTTP/1.1\" 501 -\n",
      "127.0.0.1 - - [08/May/2024 10:24:56] code 501, message Unsupported method ('CONNECT')\n",
      "127.0.0.1 - - [08/May/2024 10:24:56] \"CONNECT content-signature-2.cdn.mozilla.net:443 HTTP/1.1\" 501 -\n",
      "127.0.0.1 - - [08/May/2024 10:24:56] code 501, message Unsupported method ('CONNECT')\n",
      "127.0.0.1 - - [08/May/2024 10:24:56] \"CONNECT content-signature-2.cdn.mozilla.net:443 HTTP/1.1\" 501 -\n",
      "127.0.0.1 - - [08/May/2024 10:24:56] code 501, message Unsupported method ('CONNECT')\n",
      "127.0.0.1 - - [08/May/2024 10:24:56] \"CONNECT content-signature-2.cdn.mozilla.net:443 HTTP/1.1\" 501 -\n",
      "127.0.0.1 - - [08/May/2024 10:24:56] code 501, message Unsupported method ('CONNECT')\n",
      "127.0.0.1 - - [08/May/2024 10:24:56] \"CONNECT content-signature-2.cdn.mozilla.net:443 HTTP/1.1\" 501 -\n",
      "127.0.0.1 - - [08/May/2024 10:24:56] code 501, message Unsupported method ('CONNECT')\n",
      "127.0.0.1 - - [08/May/2024 10:24:56] \"CONNECT content-signature-2.cdn.mozilla.net:443 HTTP/1.1\" 501 -\n",
      "127.0.0.1 - - [08/May/2024 10:24:56] code 501, message Unsupported method ('CONNECT')\n",
      "127.0.0.1 - - [08/May/2024 10:24:56] \"CONNECT content-signature-2.cdn.mozilla.net:443 HTTP/1.1\" 501 -\n",
      "127.0.0.1 - - [08/May/2024 10:24:56] code 501, message Unsupported method ('CONNECT')\n",
      "127.0.0.1 - - [08/May/2024 10:24:56] \"CONNECT content-signature-2.cdn.mozilla.net:443 HTTP/1.1\" 501 -\n",
      "127.0.0.1 - - [08/May/2024 10:24:56] code 501, message Unsupported method ('CONNECT')\n",
      "127.0.0.1 - - [08/May/2024 10:24:56] \"CONNECT content-signature-2.cdn.mozilla.net:443 HTTP/1.1\" 501 -\n",
      "127.0.0.1 - - [08/May/2024 10:24:56] code 501, message Unsupported method ('CONNECT')\n",
      "127.0.0.1 - - [08/May/2024 10:24:56] \"CONNECT content-signature-2.cdn.mozilla.net:443 HTTP/1.1\" 501 -\n",
      "127.0.0.1 - - [08/May/2024 10:24:56] code 501, message Unsupported method ('CONNECT')\n",
      "127.0.0.1 - - [08/May/2024 10:24:56] \"CONNECT content-signature-2.cdn.mozilla.net:443 HTTP/1.1\" 501 -\n",
      "127.0.0.1 - - [08/May/2024 10:24:56] code 501, message Unsupported method ('CONNECT')\n",
      "127.0.0.1 - - [08/May/2024 10:24:56] \"CONNECT content-signature-2.cdn.mozilla.net:443 HTTP/1.1\" 501 -\n",
      "127.0.0.1 - - [08/May/2024 10:24:56] code 501, message Unsupported method ('CONNECT')\n",
      "127.0.0.1 - - [08/May/2024 10:24:56] \"CONNECT content-signature-2.cdn.mozilla.net:443 HTTP/1.1\" 501 -\n",
      "127.0.0.1 - - [08/May/2024 10:24:56] code 501, message Unsupported method ('CONNECT')\n",
      "127.0.0.1 - - [08/May/2024 10:24:56] \"CONNECT content-signature-2.cdn.mozilla.net:443 HTTP/1.1\" 501 -\n",
      "127.0.0.1 - - [08/May/2024 10:24:56] code 501, message Unsupported method ('CONNECT')\n",
      "127.0.0.1 - - [08/May/2024 10:24:56] \"CONNECT content-signature-2.cdn.mozilla.net:443 HTTP/1.1\" 501 -\n",
      "127.0.0.1 - - [08/May/2024 10:24:56] code 501, message Unsupported method ('CONNECT')\n",
      "127.0.0.1 - - [08/May/2024 10:24:56] \"CONNECT content-signature-2.cdn.mozilla.net:443 HTTP/1.1\" 501 -\n",
      "127.0.0.1 - - [08/May/2024 10:24:56] code 501, message Unsupported method ('CONNECT')\n",
      "127.0.0.1 - - [08/May/2024 10:24:56] \"CONNECT content-signature-2.cdn.mozilla.net:443 HTTP/1.1\" 501 -\n",
      "127.0.0.1 - - [08/May/2024 10:24:56] code 501, message Unsupported method ('CONNECT')\n",
      "127.0.0.1 - - [08/May/2024 10:24:56] \"CONNECT content-signature-2.cdn.mozilla.net:443 HTTP/1.1\" 501 -\n",
      "127.0.0.1 - - [08/May/2024 10:24:56] code 501, message Unsupported method ('CONNECT')\n",
      "127.0.0.1 - - [08/May/2024 10:24:56] \"CONNECT content-signature-2.cdn.mozilla.net:443 HTTP/1.1\" 501 -\n",
      "127.0.0.1 - - [08/May/2024 10:24:56] code 501, message Unsupported method ('CONNECT')\n",
      "127.0.0.1 - - [08/May/2024 10:24:56] \"CONNECT content-signature-2.cdn.mozilla.net:443 HTTP/1.1\" 501 -\n",
      "127.0.0.1 - - [08/May/2024 10:24:56] code 501, message Unsupported method ('CONNECT')\n",
      "127.0.0.1 - - [08/May/2024 10:24:56] \"CONNECT content-signature-2.cdn.mozilla.net:443 HTTP/1.1\" 501 -\n",
      "127.0.0.1 - - [08/May/2024 10:24:56] code 501, message Unsupported method ('CONNECT')\n",
      "127.0.0.1 - - [08/May/2024 10:24:56] \"CONNECT content-signature-2.cdn.mozilla.net:443 HTTP/1.1\" 501 -\n",
      "127.0.0.1 - - [08/May/2024 10:24:56] code 501, message Unsupported method ('CONNECT')\n",
      "127.0.0.1 - - [08/May/2024 10:24:56] \"CONNECT content-signature-2.cdn.mozilla.net:443 HTTP/1.1\" 501 -\n",
      "127.0.0.1 - - [08/May/2024 10:24:56] code 501, message Unsupported method ('CONNECT')\n",
      "127.0.0.1 - - [08/May/2024 10:24:56] \"CONNECT content-signature-2.cdn.mozilla.net:443 HTTP/1.1\" 501 -\n",
      "127.0.0.1 - - [08/May/2024 10:24:56] code 501, message Unsupported method ('CONNECT')\n",
      "127.0.0.1 - - [08/May/2024 10:24:56] \"CONNECT content-signature-2.cdn.mozilla.net:443 HTTP/1.1\" 501 -\n",
      "127.0.0.1 - - [08/May/2024 10:24:56] code 501, message Unsupported method ('CONNECT')\n",
      "127.0.0.1 - - [08/May/2024 10:24:56] \"CONNECT content-signature-2.cdn.mozilla.net:443 HTTP/1.1\" 501 -\n",
      "127.0.0.1 - - [08/May/2024 10:24:56] code 501, message Unsupported method ('CONNECT')\n",
      "127.0.0.1 - - [08/May/2024 10:24:56] \"CONNECT content-signature-2.cdn.mozilla.net:443 HTTP/1.1\" 501 -\n",
      "127.0.0.1 - - [08/May/2024 10:24:56] code 501, message Unsupported method ('CONNECT')\n",
      "127.0.0.1 - - [08/May/2024 10:24:56] \"CONNECT content-signature-2.cdn.mozilla.net:443 HTTP/1.1\" 501 -\n",
      "127.0.0.1 - - [08/May/2024 10:24:56] code 501, message Unsupported method ('CONNECT')\n",
      "127.0.0.1 - - [08/May/2024 10:24:56] \"CONNECT content-signature-2.cdn.mozilla.net:443 HTTP/1.1\" 501 -\n",
      "127.0.0.1 - - [08/May/2024 10:24:56] code 501, message Unsupported method ('CONNECT')\n",
      "127.0.0.1 - - [08/May/2024 10:24:56] \"CONNECT content-signature-2.cdn.mozilla.net:443 HTTP/1.1\" 501 -\n",
      "127.0.0.1 - - [08/May/2024 10:24:56] code 501, message Unsupported method ('CONNECT')\n",
      "127.0.0.1 - - [08/May/2024 10:24:56] \"CONNECT content-signature-2.cdn.mozilla.net:443 HTTP/1.1\" 501 -\n",
      "127.0.0.1 - - [08/May/2024 10:24:56] code 501, message Unsupported method ('CONNECT')\n",
      "127.0.0.1 - - [08/May/2024 10:24:56] \"CONNECT content-signature-2.cdn.mozilla.net:443 HTTP/1.1\" 501 -\n",
      "127.0.0.1 - - [08/May/2024 10:24:56] code 501, message Unsupported method ('CONNECT')\n",
      "127.0.0.1 - - [08/May/2024 10:24:56] \"CONNECT content-signature-2.cdn.mozilla.net:443 HTTP/1.1\" 501 -\n",
      "127.0.0.1 - - [08/May/2024 10:24:56] code 501, message Unsupported method ('CONNECT')\n",
      "127.0.0.1 - - [08/May/2024 10:24:56] \"CONNECT content-signature-2.cdn.mozilla.net:443 HTTP/1.1\" 501 -\n",
      "127.0.0.1 - - [08/May/2024 10:24:56] code 501, message Unsupported method ('CONNECT')\n",
      "127.0.0.1 - - [08/May/2024 10:24:56] \"CONNECT content-signature-2.cdn.mozilla.net:443 HTTP/1.1\" 501 -\n",
      "127.0.0.1 - - [08/May/2024 10:24:56] code 501, message Unsupported method ('CONNECT')\n",
      "127.0.0.1 - - [08/May/2024 10:24:56] \"CONNECT content-signature-2.cdn.mozilla.net:443 HTTP/1.1\" 501 -\n",
      "127.0.0.1 - - [08/May/2024 10:24:56] code 501, message Unsupported method ('CONNECT')\n",
      "127.0.0.1 - - [08/May/2024 10:24:56] \"CONNECT content-signature-2.cdn.mozilla.net:443 HTTP/1.1\" 501 -\n",
      "127.0.0.1 - - [08/May/2024 10:24:56] code 501, message Unsupported method ('CONNECT')\n",
      "127.0.0.1 - - [08/May/2024 10:24:56] \"CONNECT content-signature-2.cdn.mozilla.net:443 HTTP/1.1\" 501 -\n",
      "127.0.0.1 - - [08/May/2024 10:24:56] code 501, message Unsupported method ('CONNECT')\n",
      "127.0.0.1 - - [08/May/2024 10:24:56] \"CONNECT content-signature-2.cdn.mozilla.net:443 HTTP/1.1\" 501 -\n",
      "127.0.0.1 - - [08/May/2024 10:24:56] code 501, message Unsupported method ('CONNECT')\n",
      "127.0.0.1 - - [08/May/2024 10:24:56] \"CONNECT content-signature-2.cdn.mozilla.net:443 HTTP/1.1\" 501 -\n"
     ]
    },
    {
     "name": "stdout",
     "output_type": "stream",
     "text": [
      "Log data sent to API successfully.\n"
     ]
    },
    {
     "name": "stderr",
     "output_type": "stream",
     "text": [
      "127.0.0.1 - - [08/May/2024 10:25:05] \"GET http://demo.testfire.net/ HTTP/1.1\" 200 -\n",
      "127.0.0.1 - - [08/May/2024 10:25:05] code 501, message Unsupported method ('CONNECT')\n",
      "127.0.0.1 - - [08/May/2024 10:25:05] \"CONNECT incoming.telemetry.mozilla.org:443 HTTP/1.1\" 501 -\n",
      "127.0.0.1 - - [08/May/2024 10:25:05] code 501, message Unsupported method ('CONNECT')\n",
      "127.0.0.1 - - [08/May/2024 10:25:05] \"CONNECT incoming.telemetry.mozilla.org:443 HTTP/1.1\" 501 -\n"
     ]
    },
    {
     "name": "stdout",
     "output_type": "stream",
     "text": [
      "Log data sent to API successfully.\n"
     ]
    },
    {
     "name": "stderr",
     "output_type": "stream",
     "text": [
      "127.0.0.1 - - [08/May/2024 10:25:06] \"GET http://demo.testfire.net/style.css HTTP/1.1\" 200 -\n",
      "127.0.0.1 - - [08/May/2024 10:25:06] code 501, message Unsupported method ('CONNECT')\n",
      "127.0.0.1 - - [08/May/2024 10:25:06] \"CONNECT incoming.telemetry.mozilla.org:443 HTTP/1.1\" 501 -\n"
     ]
    },
    {
     "name": "stdout",
     "output_type": "stream",
     "text": [
      "Log data sent to API successfully.\n"
     ]
    },
    {
     "name": "stderr",
     "output_type": "stream",
     "text": [
      "127.0.0.1 - - [08/May/2024 10:25:07] \"GET http://demo.testfire.net/images/logo.gif HTTP/1.1\" 200 -\n"
     ]
    },
    {
     "name": "stdout",
     "output_type": "stream",
     "text": [
      "Log data sent to API successfully.\n"
     ]
    },
    {
     "name": "stderr",
     "output_type": "stream",
     "text": [
      "127.0.0.1 - - [08/May/2024 10:25:08] \"GET http://demo.testfire.net/images/home3.jpg HTTP/1.1\" 200 -\n"
     ]
    },
    {
     "name": "stdout",
     "output_type": "stream",
     "text": [
      "Log data sent to API successfully.\n"
     ]
    },
    {
     "name": "stderr",
     "output_type": "stream",
     "text": [
      "127.0.0.1 - - [08/May/2024 10:25:09] \"GET http://demo.testfire.net/images/home2.jpg HTTP/1.1\" 200 -\n"
     ]
    },
    {
     "name": "stdout",
     "output_type": "stream",
     "text": [
      "Log data sent to API successfully.\n"
     ]
    },
    {
     "name": "stderr",
     "output_type": "stream",
     "text": [
      "127.0.0.1 - - [08/May/2024 10:25:09] \"GET http://demo.testfire.net/images/home1.jpg HTTP/1.1\" 200 -\n"
     ]
    },
    {
     "name": "stdout",
     "output_type": "stream",
     "text": [
      "Log data sent to API successfully.\n"
     ]
    },
    {
     "name": "stderr",
     "output_type": "stream",
     "text": [
      "127.0.0.1 - - [08/May/2024 10:25:11] \"GET http://demo.testfire.net/images/pf_lock.gif HTTP/1.1\" 200 -\n"
     ]
    },
    {
     "name": "stdout",
     "output_type": "stream",
     "text": [
      "Log data sent to API successfully.\n"
     ]
    },
    {
     "name": "stderr",
     "output_type": "stream",
     "text": [
      "127.0.0.1 - - [08/May/2024 10:25:12] \"GET http://demo.testfire.net/images/header_pic.jpg HTTP/1.1\" 200 -\n"
     ]
    },
    {
     "name": "stdout",
     "output_type": "stream",
     "text": [
      "Log data sent to API successfully.\n"
     ]
    },
    {
     "name": "stderr",
     "output_type": "stream",
     "text": [
      "127.0.0.1 - - [08/May/2024 10:25:13] \"GET http://demo.testfire.net/images/gradient.jpg HTTP/1.1\" 200 -\n"
     ]
    },
    {
     "name": "stdout",
     "output_type": "stream",
     "text": [
      "Log data sent to API successfully.\n"
     ]
    },
    {
     "name": "stderr",
     "output_type": "stream",
     "text": [
      "127.0.0.1 - - [08/May/2024 10:25:14] \"GET http://demo.testfire.net/search.jsp?query=%3Cscript%3Ealert%281%29%3E%3C%2Fscript%3E HTTP/1.1\" 403 -\n",
      "127.0.0.1 - - [08/May/2024 10:25:15] code 501, message Unsupported method ('CONNECT')\n",
      "127.0.0.1 - - [08/May/2024 10:25:15] \"CONNECT push.services.mozilla.com:443 HTTP/1.1\" 501 -\n"
     ]
    },
    {
     "name": "stdout",
     "output_type": "stream",
     "text": [
      "Log data sent to API successfully.\n"
     ]
    },
    {
     "name": "stderr",
     "output_type": "stream",
     "text": [
      "127.0.0.1 - - [08/May/2024 10:25:20] \"GET http://api.ipify.org/?format=json HTTP/1.1\" 200 -\n"
     ]
    },
    {
     "name": "stdout",
     "output_type": "stream",
     "text": [
      "Log data sent to API successfully.\n"
     ]
    },
    {
     "name": "stderr",
     "output_type": "stream",
     "text": [
      "127.0.0.1 - - [08/May/2024 10:25:21] \"GET http://ip-api.com/json/122.187.97.126 HTTP/1.1\" 200 -\n"
     ]
    },
    {
     "name": "stdout",
     "output_type": "stream",
     "text": [
      "Log data sent to API successfully.\n"
     ]
    },
    {
     "name": "stderr",
     "output_type": "stream",
     "text": [
      "127.0.0.1 - - [08/May/2024 10:25:28] \"GET http://detectportal.firefox.com/canonical.html HTTP/1.1\" 200 -\n"
     ]
    },
    {
     "name": "stdout",
     "output_type": "stream",
     "text": [
      "Log data sent to API successfully.\n"
     ]
    },
    {
     "name": "stderr",
     "output_type": "stream",
     "text": [
      "127.0.0.1 - - [08/May/2024 10:25:28] \"GET http://detectportal.firefox.com/success.txt?ipv4 HTTP/1.1\" 200 -\n"
     ]
    },
    {
     "name": "stdout",
     "output_type": "stream",
     "text": [
      "Log data sent to API successfully.\n"
     ]
    },
    {
     "name": "stderr",
     "output_type": "stream",
     "text": [
      "127.0.0.1 - - [08/May/2024 10:25:29] \"GET http://detectportal.firefox.com/success.txt?ipv6 HTTP/1.1\" 200 -\n",
      "127.0.0.1 - - [08/May/2024 10:25:55] code 501, message Unsupported method ('CONNECT')\n",
      "127.0.0.1 - - [08/May/2024 10:25:55] \"CONNECT push.services.mozilla.com:443 HTTP/1.1\" 501 -\n",
      "127.0.0.1 - - [08/May/2024 10:27:16] code 501, message Unsupported method ('CONNECT')\n",
      "127.0.0.1 - - [08/May/2024 10:27:16] \"CONNECT push.services.mozilla.com:443 HTTP/1.1\" 501 -\n",
      "127.0.0.1 - - [08/May/2024 10:28:09] code 501, message Unsupported method ('CONNECT')\n",
      "127.0.0.1 - - [08/May/2024 10:28:09] \"CONNECT aus5.mozilla.org:443 HTTP/1.1\" 501 -\n"
     ]
    },
    {
     "name": "stdout",
     "output_type": "stream",
     "text": [
      "Log data sent to API successfully.\n"
     ]
    },
    {
     "name": "stderr",
     "output_type": "stream",
     "text": [
      "127.0.0.1 - - [08/May/2024 10:28:20] \"GET http://demo.testfire.net/search.jsp?query=%3Cscript%3Ealert(1)%3E%3C%2Fscript%3E HTTP/1.1\" 403 -\n"
     ]
    },
    {
     "name": "stdout",
     "output_type": "stream",
     "text": [
      "Log data sent to API successfully.\n"
     ]
    },
    {
     "name": "stderr",
     "output_type": "stream",
     "text": [
      "127.0.0.1 - - [08/May/2024 10:28:20] \"GET http://api.ipify.org/?format=json HTTP/1.1\" 200 -\n"
     ]
    },
    {
     "name": "stdout",
     "output_type": "stream",
     "text": [
      "Log data sent to API successfully.\n"
     ]
    },
    {
     "name": "stderr",
     "output_type": "stream",
     "text": [
      "127.0.0.1 - - [08/May/2024 10:28:21] \"GET http://ip-api.com/json/122.187.97.126 HTTP/1.1\" 200 -\n",
      "127.0.0.1 - - [08/May/2024 10:29:29] code 501, message Unsupported method ('CONNECT')\n",
      "127.0.0.1 - - [08/May/2024 10:29:29] \"CONNECT contile.services.mozilla.com:443 HTTP/1.1\" 501 -\n",
      "127.0.0.1 - - [08/May/2024 10:29:29] code 501, message Unsupported method ('CONNECT')\n",
      "127.0.0.1 - - [08/May/2024 10:29:29] \"CONNECT spocs.getpocket.com:443 HTTP/1.1\" 501 -\n",
      "127.0.0.1 - - [08/May/2024 10:29:29] code 501, message Unsupported method ('CONNECT')\n",
      "127.0.0.1 - - [08/May/2024 10:29:29] \"CONNECT firefox-api-proxy.cdn.mozilla.net:443 HTTP/1.1\" 501 -\n",
      "127.0.0.1 - - [08/May/2024 10:29:56] code 501, message Unsupported method ('CONNECT')\n",
      "127.0.0.1 - - [08/May/2024 10:29:56] \"CONNECT push.services.mozilla.com:443 HTTP/1.1\" 501 -\n"
     ]
    },
    {
     "name": "stdout",
     "output_type": "stream",
     "text": [
      "Log data sent to API successfully.\n"
     ]
    },
    {
     "name": "stderr",
     "output_type": "stream",
     "text": [
      "127.0.0.1 - - [08/May/2024 10:29:59] \"GET http://demo.testfire.net/search.jsp?query=-1%20UNION%20SELECT%201%20INTO%20@,@ HTTP/1.1\" 403 -\n"
     ]
    },
    {
     "name": "stdout",
     "output_type": "stream",
     "text": [
      "Log data sent to API successfully.\n"
     ]
    },
    {
     "name": "stderr",
     "output_type": "stream",
     "text": [
      "127.0.0.1 - - [08/May/2024 10:30:00] \"GET http://api.ipify.org/?format=json HTTP/1.1\" 200 -\n"
     ]
    },
    {
     "name": "stdout",
     "output_type": "stream",
     "text": [
      "Log data sent to API successfully.\n"
     ]
    },
    {
     "name": "stderr",
     "output_type": "stream",
     "text": [
      "127.0.0.1 - - [08/May/2024 10:30:01] \"GET http://ip-api.com/json/122.187.97.126 HTTP/1.1\" 200 -\n"
     ]
    },
    {
     "name": "stdout",
     "output_type": "stream",
     "text": [
      "Log data sent to API successfully.\n"
     ]
    },
    {
     "name": "stderr",
     "output_type": "stream",
     "text": [
      "127.0.0.1 - - [08/May/2024 10:30:07] \"GET http://demo.testfire.net/search.jsp?query=-1%20UNION%20SELECT%201%20INTO%20@,@ HTTP/1.1\" 403 -\n"
     ]
    },
    {
     "name": "stdout",
     "output_type": "stream",
     "text": [
      "Log data sent to API successfully.\n"
     ]
    },
    {
     "name": "stderr",
     "output_type": "stream",
     "text": [
      "127.0.0.1 - - [08/May/2024 10:30:07] \"GET http://api.ipify.org/?format=json HTTP/1.1\" 200 -\n"
     ]
    },
    {
     "name": "stdout",
     "output_type": "stream",
     "text": [
      "Log data sent to API successfully.\n"
     ]
    },
    {
     "name": "stderr",
     "output_type": "stream",
     "text": [
      "127.0.0.1 - - [08/May/2024 10:30:08] \"GET http://ip-api.com/json/122.187.97.126 HTTP/1.1\" 200 -\n"
     ]
    },
    {
     "name": "stdout",
     "output_type": "stream",
     "text": [
      "Log data sent to API successfully.\n"
     ]
    },
    {
     "name": "stderr",
     "output_type": "stream",
     "text": [
      "127.0.0.1 - - [08/May/2024 10:30:14] \"GET http://demo.testfire.net/search.jsp?query=-1%20UNION%20SELECT%201%20INTO%20@,@ HTTP/1.1\" 403 -\n"
     ]
    },
    {
     "name": "stdout",
     "output_type": "stream",
     "text": [
      "Log data sent to API successfully.\n"
     ]
    },
    {
     "name": "stderr",
     "output_type": "stream",
     "text": [
      "127.0.0.1 - - [08/May/2024 10:30:15] \"GET http://api.ipify.org/?format=json HTTP/1.1\" 200 -\n"
     ]
    },
    {
     "name": "stdout",
     "output_type": "stream",
     "text": [
      "Log data sent to API successfully.\n"
     ]
    },
    {
     "name": "stderr",
     "output_type": "stream",
     "text": [
      "127.0.0.1 - - [08/May/2024 10:30:16] \"GET http://ip-api.com/json/122.187.97.126 HTTP/1.1\" 200 -\n"
     ]
    },
    {
     "name": "stdout",
     "output_type": "stream",
     "text": [
      "Log data sent to API successfully.\n"
     ]
    },
    {
     "name": "stderr",
     "output_type": "stream",
     "text": [
      "127.0.0.1 - - [08/May/2024 10:30:21] \"GET http://demo.testfire.net/search.jsp?query=-1%20UNION%20SELECT%201%20INTO%20@,@ HTTP/1.1\" 403 -\n"
     ]
    },
    {
     "name": "stdout",
     "output_type": "stream",
     "text": [
      "Log data sent to API successfully.\n"
     ]
    },
    {
     "name": "stderr",
     "output_type": "stream",
     "text": [
      "127.0.0.1 - - [08/May/2024 10:30:21] \"GET http://api.ipify.org/?format=json HTTP/1.1\" 200 -\n"
     ]
    },
    {
     "name": "stdout",
     "output_type": "stream",
     "text": [
      "Log data sent to API successfully.\n"
     ]
    },
    {
     "name": "stderr",
     "output_type": "stream",
     "text": [
      "127.0.0.1 - - [08/May/2024 10:30:23] \"GET http://ip-api.com/json/122.187.97.126 HTTP/1.1\" 200 -\n"
     ]
    },
    {
     "name": "stdout",
     "output_type": "stream",
     "text": [
      "Log data sent to API successfully.\n"
     ]
    },
    {
     "name": "stderr",
     "output_type": "stream",
     "text": [
      "127.0.0.1 - - [08/May/2024 10:30:26] \"GET http://demo.testfire.net/search.jsp?query=-1%20UNION%20SELECT%201%20INTO%20@,@ HTTP/1.1\" 403 -\n"
     ]
    },
    {
     "name": "stdout",
     "output_type": "stream",
     "text": [
      "Log data sent to API successfully.\n"
     ]
    },
    {
     "name": "stderr",
     "output_type": "stream",
     "text": [
      "127.0.0.1 - - [08/May/2024 10:30:27] \"GET http://api.ipify.org/?format=json HTTP/1.1\" 200 -\n"
     ]
    },
    {
     "name": "stdout",
     "output_type": "stream",
     "text": [
      "Log data sent to API successfully.\n"
     ]
    },
    {
     "name": "stderr",
     "output_type": "stream",
     "text": [
      "127.0.0.1 - - [08/May/2024 10:30:28] \"GET http://ip-api.com/json/122.187.97.126 HTTP/1.1\" 200 -\n"
     ]
    },
    {
     "name": "stdout",
     "output_type": "stream",
     "text": [
      "Log data sent to API successfully.\n"
     ]
    },
    {
     "name": "stderr",
     "output_type": "stream",
     "text": [
      "127.0.0.1 - - [08/May/2024 10:30:33] \"GET http://demo.testfire.net/search.jsp?query=-1%20UNION%20SELECT%201%20INTO%20@,@ HTTP/1.1\" 403 -\n"
     ]
    },
    {
     "name": "stdout",
     "output_type": "stream",
     "text": [
      "Log data sent to API successfully.\n"
     ]
    },
    {
     "name": "stderr",
     "output_type": "stream",
     "text": [
      "127.0.0.1 - - [08/May/2024 10:30:34] \"GET http://api.ipify.org/?format=json HTTP/1.1\" 200 -\n"
     ]
    },
    {
     "name": "stdout",
     "output_type": "stream",
     "text": [
      "Log data sent to API successfully.\n"
     ]
    },
    {
     "name": "stderr",
     "output_type": "stream",
     "text": [
      "127.0.0.1 - - [08/May/2024 10:30:35] \"GET http://ip-api.com/json/122.187.97.126 HTTP/1.1\" 200 -\n",
      "127.0.0.1 - - [08/May/2024 10:34:30] code 501, message Unsupported method ('CONNECT')\n",
      "127.0.0.1 - - [08/May/2024 10:34:30] \"CONNECT spocs.getpocket.com:443 HTTP/1.1\" 501 -\n",
      "127.0.0.1 - - [08/May/2024 10:34:30] code 501, message Unsupported method ('CONNECT')\n",
      "127.0.0.1 - - [08/May/2024 10:34:30] \"CONNECT firefox-api-proxy.cdn.mozilla.net:443 HTTP/1.1\" 501 -\n"
     ]
    },
    {
     "name": "stdout",
     "output_type": "stream",
     "text": [
      "Log data sent to API successfully.\n"
     ]
    },
    {
     "name": "stderr",
     "output_type": "stream",
     "text": [
      "127.0.0.1 - - [08/May/2024 10:35:00] \"GET http://demo.testfire.net/search.jsp?query=-1%20UNION%20SELECT%201%20INTO%20@,@ HTTP/1.1\" 403 -\n"
     ]
    },
    {
     "name": "stdout",
     "output_type": "stream",
     "text": [
      "Log data sent to API successfully.\n"
     ]
    },
    {
     "name": "stderr",
     "output_type": "stream",
     "text": [
      "127.0.0.1 - - [08/May/2024 10:35:00] \"GET http://api.ipify.org/?format=json HTTP/1.1\" 200 -\n"
     ]
    },
    {
     "name": "stdout",
     "output_type": "stream",
     "text": [
      "Log data sent to API successfully.\n"
     ]
    },
    {
     "name": "stderr",
     "output_type": "stream",
     "text": [
      "127.0.0.1 - - [08/May/2024 10:35:02] \"GET http://ip-api.com/json/122.187.97.126 HTTP/1.1\" 200 -\n",
      "127.0.0.1 - - [08/May/2024 10:35:17] code 501, message Unsupported method ('CONNECT')\n",
      "127.0.0.1 - - [08/May/2024 10:35:17] \"CONNECT push.services.mozilla.com:443 HTTP/1.1\" 501 -\n"
     ]
    },
    {
     "name": "stdout",
     "output_type": "stream",
     "text": [
      "Log data sent to API successfully.\n"
     ]
    },
    {
     "name": "stderr",
     "output_type": "stream",
     "text": [
      "127.0.0.1 - - [08/May/2024 10:37:55] \"GET http://demo.testfire.net/search.jsp?query=-1%20UNION%20SELECT%201%20INTO%20@,@ HTTP/1.1\" 403 -\n"
     ]
    },
    {
     "name": "stdout",
     "output_type": "stream",
     "text": [
      "Log data sent to API successfully.\n"
     ]
    },
    {
     "name": "stderr",
     "output_type": "stream",
     "text": [
      "127.0.0.1 - - [08/May/2024 10:37:56] \"GET http://api.ipify.org/?format=json HTTP/1.1\" 200 -\n"
     ]
    },
    {
     "name": "stdout",
     "output_type": "stream",
     "text": [
      "Log data sent to API successfully.\n"
     ]
    },
    {
     "name": "stderr",
     "output_type": "stream",
     "text": [
      "127.0.0.1 - - [08/May/2024 10:37:57] \"GET http://ip-api.com/json/122.187.97.126 HTTP/1.1\" 200 -\n",
      "127.0.0.1 - - [08/May/2024 10:39:34] code 501, message Unsupported method ('CONNECT')\n",
      "127.0.0.1 - - [08/May/2024 10:39:34] \"CONNECT spocs.getpocket.com:443 HTTP/1.1\" 501 -\n",
      "127.0.0.1 - - [08/May/2024 10:39:34] code 501, message Unsupported method ('CONNECT')\n",
      "127.0.0.1 - - [08/May/2024 10:39:34] \"CONNECT firefox-api-proxy.cdn.mozilla.net:443 HTTP/1.1\" 501 -\n",
      "127.0.0.1 - - [08/May/2024 10:44:37] code 501, message Unsupported method ('CONNECT')\n",
      "127.0.0.1 - - [08/May/2024 10:44:37] \"CONNECT contile.services.mozilla.com:443 HTTP/1.1\" 501 -\n",
      "127.0.0.1 - - [08/May/2024 10:44:37] code 501, message Unsupported method ('CONNECT')\n",
      "127.0.0.1 - - [08/May/2024 10:44:37] \"CONNECT spocs.getpocket.com:443 HTTP/1.1\" 501 -\n",
      "127.0.0.1 - - [08/May/2024 10:44:37] code 501, message Unsupported method ('CONNECT')\n",
      "127.0.0.1 - - [08/May/2024 10:44:37] \"CONNECT firefox-api-proxy.cdn.mozilla.net:443 HTTP/1.1\" 501 -\n",
      "127.0.0.1 - - [08/May/2024 10:45:58] code 501, message Unsupported method ('CONNECT')\n",
      "127.0.0.1 - - [08/May/2024 10:45:58] \"CONNECT push.services.mozilla.com:443 HTTP/1.1\" 501 -\n"
     ]
    },
    {
     "name": "stdout",
     "output_type": "stream",
     "text": [
      "Log data sent to API successfully.\n"
     ]
    },
    {
     "name": "stderr",
     "output_type": "stream",
     "text": [
      "127.0.0.1 - - [08/May/2024 10:48:45] \"GET http://demo.testfire.net/search.jsp?query=-1%20UNION%20SELECT%201%20INTO%20@,@ HTTP/1.1\" 403 -\n"
     ]
    },
    {
     "name": "stdout",
     "output_type": "stream",
     "text": [
      "Log data sent to API successfully.\n"
     ]
    },
    {
     "name": "stderr",
     "output_type": "stream",
     "text": [
      "127.0.0.1 - - [08/May/2024 10:48:46] \"GET http://api.ipify.org/?format=json HTTP/1.1\" 200 -\n"
     ]
    },
    {
     "name": "stdout",
     "output_type": "stream",
     "text": [
      "Log data sent to API successfully.\n"
     ]
    },
    {
     "name": "stderr",
     "output_type": "stream",
     "text": [
      "127.0.0.1 - - [08/May/2024 10:48:47] \"GET http://ip-api.com/json/122.187.97.126 HTTP/1.1\" 200 -\n"
     ]
    },
    {
     "name": "stdout",
     "output_type": "stream",
     "text": [
      "Log data sent to API successfully.\n"
     ]
    },
    {
     "name": "stderr",
     "output_type": "stream",
     "text": [
      "127.0.0.1 - - [08/May/2024 10:48:49] \"GET http://demo.testfire.net/search.jsp?query=-1%20UNION%20SELECT%201%20INTO%20@,@ HTTP/1.1\" 403 -\n"
     ]
    },
    {
     "name": "stdout",
     "output_type": "stream",
     "text": [
      "Log data sent to API successfully.\n"
     ]
    },
    {
     "name": "stderr",
     "output_type": "stream",
     "text": [
      "127.0.0.1 - - [08/May/2024 10:48:49] \"GET http://api.ipify.org/?format=json HTTP/1.1\" 200 -\n"
     ]
    },
    {
     "name": "stdout",
     "output_type": "stream",
     "text": [
      "Log data sent to API successfully.\n"
     ]
    },
    {
     "name": "stderr",
     "output_type": "stream",
     "text": [
      "127.0.0.1 - - [08/May/2024 10:48:50] \"GET http://ip-api.com/json/122.187.97.126 HTTP/1.1\" 200 -\n"
     ]
    },
    {
     "name": "stdout",
     "output_type": "stream",
     "text": [
      "Log data sent to API successfully.\n"
     ]
    },
    {
     "name": "stderr",
     "output_type": "stream",
     "text": [
      "127.0.0.1 - - [08/May/2024 10:48:53] \"GET http://demo.testfire.net/search.jsp?query=-1%20UNION%20SELECT%201%20INTO%20@,@ HTTP/1.1\" 403 -\n"
     ]
    },
    {
     "name": "stdout",
     "output_type": "stream",
     "text": [
      "Log data sent to API successfully.\n"
     ]
    },
    {
     "name": "stderr",
     "output_type": "stream",
     "text": [
      "127.0.0.1 - - [08/May/2024 10:48:54] \"GET http://api.ipify.org/?format=json HTTP/1.1\" 200 -\n"
     ]
    },
    {
     "name": "stdout",
     "output_type": "stream",
     "text": [
      "Log data sent to API successfully.\n"
     ]
    },
    {
     "name": "stderr",
     "output_type": "stream",
     "text": [
      "127.0.0.1 - - [08/May/2024 10:48:55] \"GET http://ip-api.com/json/122.187.97.126 HTTP/1.1\" 200 -\n"
     ]
    },
    {
     "name": "stdout",
     "output_type": "stream",
     "text": [
      "Log data sent to API successfully.\n"
     ]
    },
    {
     "name": "stderr",
     "output_type": "stream",
     "text": [
      "127.0.0.1 - - [08/May/2024 10:48:57] \"GET http://demo.testfire.net/search.jsp?query=-1%20UNION%20SELECT%201%20INTO%20@,@ HTTP/1.1\" 403 -\n"
     ]
    },
    {
     "name": "stdout",
     "output_type": "stream",
     "text": [
      "Log data sent to API successfully.\n"
     ]
    },
    {
     "name": "stderr",
     "output_type": "stream",
     "text": [
      "127.0.0.1 - - [08/May/2024 10:48:58] \"GET http://api.ipify.org/?format=json HTTP/1.1\" 200 -\n"
     ]
    },
    {
     "name": "stdout",
     "output_type": "stream",
     "text": [
      "Log data sent to API successfully.\n"
     ]
    },
    {
     "name": "stderr",
     "output_type": "stream",
     "text": [
      "127.0.0.1 - - [08/May/2024 10:48:59] \"GET http://ip-api.com/json/122.187.97.126 HTTP/1.1\" 200 -\n",
      "127.0.0.1 - - [08/May/2024 10:49:46] code 501, message Unsupported method ('CONNECT')\n",
      "127.0.0.1 - - [08/May/2024 10:49:46] \"CONNECT spocs.getpocket.com:443 HTTP/1.1\" 501 -\n",
      "127.0.0.1 - - [08/May/2024 10:49:46] code 501, message Unsupported method ('CONNECT')\n",
      "127.0.0.1 - - [08/May/2024 10:49:46] \"CONNECT firefox-api-proxy.cdn.mozilla.net:443 HTTP/1.1\" 501 -\n",
      "127.0.0.1 - - [08/May/2024 10:52:13] code 501, message Unsupported method ('CONNECT')\n",
      "127.0.0.1 - - [08/May/2024 10:52:13] \"CONNECT firefox.settings.services.mozilla.com:443 HTTP/1.1\" 501 -\n",
      "127.0.0.1 - - [08/May/2024 10:52:31] code 501, message Unsupported method ('CONNECT')\n",
      "127.0.0.1 - - [08/May/2024 10:52:31] \"CONNECT shavar.services.mozilla.com:443 HTTP/1.1\" 501 -\n"
     ]
    },
    {
     "name": "stdout",
     "output_type": "stream",
     "text": [
      "Log data sent to API successfully.\n"
     ]
    },
    {
     "name": "stderr",
     "output_type": "stream",
     "text": [
      "127.0.0.1 - - [08/May/2024 10:52:47] \"GET http://demo.testfire.net/ HTTP/1.1\" 200 -\n"
     ]
    },
    {
     "name": "stdout",
     "output_type": "stream",
     "text": [
      "Log data sent to API successfully.\n"
     ]
    },
    {
     "name": "stderr",
     "output_type": "stream",
     "text": [
      "127.0.0.1 - - [08/May/2024 10:52:48] \"GET http://demo.testfire.net/style.css HTTP/1.1\" 200 -\n"
     ]
    },
    {
     "name": "stdout",
     "output_type": "stream",
     "text": [
      "Log data sent to API successfully.\n"
     ]
    },
    {
     "name": "stderr",
     "output_type": "stream",
     "text": [
      "127.0.0.1 - - [08/May/2024 10:52:49] \"GET http://demo.testfire.net/images/logo.gif HTTP/1.1\" 200 -\n"
     ]
    },
    {
     "name": "stdout",
     "output_type": "stream",
     "text": [
      "Log data sent to API successfully.\n"
     ]
    },
    {
     "name": "stderr",
     "output_type": "stream",
     "text": [
      "127.0.0.1 - - [08/May/2024 10:52:50] \"GET http://demo.testfire.net/images/home3.jpg HTTP/1.1\" 200 -\n"
     ]
    },
    {
     "name": "stdout",
     "output_type": "stream",
     "text": [
      "Log data sent to API successfully.\n"
     ]
    },
    {
     "name": "stderr",
     "output_type": "stream",
     "text": [
      "127.0.0.1 - - [08/May/2024 10:52:51] \"GET http://demo.testfire.net/images/home2.jpg HTTP/1.1\" 200 -\n"
     ]
    },
    {
     "name": "stdout",
     "output_type": "stream",
     "text": [
      "Log data sent to API successfully.\n"
     ]
    },
    {
     "name": "stderr",
     "output_type": "stream",
     "text": [
      "127.0.0.1 - - [08/May/2024 10:52:52] \"GET http://demo.testfire.net/images/home1.jpg HTTP/1.1\" 200 -\n"
     ]
    },
    {
     "name": "stdout",
     "output_type": "stream",
     "text": [
      "Log data sent to API successfully.\n"
     ]
    },
    {
     "name": "stderr",
     "output_type": "stream",
     "text": [
      "127.0.0.1 - - [08/May/2024 10:52:53] \"GET http://demo.testfire.net/images/pf_lock.gif HTTP/1.1\" 200 -\n"
     ]
    },
    {
     "name": "stdout",
     "output_type": "stream",
     "text": [
      "Log data sent to API successfully.\n"
     ]
    },
    {
     "name": "stderr",
     "output_type": "stream",
     "text": [
      "127.0.0.1 - - [08/May/2024 10:52:55] \"GET http://demo.testfire.net/images/gradient.jpg HTTP/1.1\" 200 -\n"
     ]
    },
    {
     "name": "stdout",
     "output_type": "stream",
     "text": [
      "Log data sent to API successfully.\n"
     ]
    },
    {
     "name": "stderr",
     "output_type": "stream",
     "text": [
      "127.0.0.1 - - [08/May/2024 10:52:56] \"GET http://demo.testfire.net/images/header_pic.jpg HTTP/1.1\" 200 -\n",
      "127.0.0.1 - - [08/May/2024 10:53:14] code 501, message Unsupported method ('CONNECT')\n",
      "127.0.0.1 - - [08/May/2024 10:53:14] \"CONNECT safebrowsing.googleapis.com:443 HTTP/1.1\" 501 -\n"
     ]
    },
    {
     "name": "stdout",
     "output_type": "stream",
     "text": [
      "Log data sent to API successfully.\n"
     ]
    },
    {
     "name": "stderr",
     "output_type": "stream",
     "text": [
      "127.0.0.1 - - [08/May/2024 10:53:35] \"GET http://demo.testfire.net/search.jsp?query=%3Ctitle+onPropertyChange+title+onPropertyChange%3D%22javascript%3Ajavascript%3Aalert%281%29%22%3E%3C%2Ftitle+onPropertyChange%3E HTTP/1.1\" 403 -\n"
     ]
    },
    {
     "name": "stdout",
     "output_type": "stream",
     "text": [
      "Log data sent to API successfully.\n"
     ]
    },
    {
     "name": "stderr",
     "output_type": "stream",
     "text": [
      "127.0.0.1 - - [08/May/2024 10:53:35] \"GET http://api.ipify.org/?format=json HTTP/1.1\" 200 -\n"
     ]
    },
    {
     "name": "stdout",
     "output_type": "stream",
     "text": [
      "Log data sent to API successfully.\n"
     ]
    },
    {
     "name": "stderr",
     "output_type": "stream",
     "text": [
      "127.0.0.1 - - [08/May/2024 10:53:36] \"GET http://ip-api.com/json/122.187.97.126 HTTP/1.1\" 200 -\n",
      "127.0.0.1 - - [08/May/2024 10:54:20] code 501, message Unsupported method ('CONNECT')\n",
      "127.0.0.1 - - [08/May/2024 10:54:20] \"CONNECT www.google.com:443 HTTP/1.1\" 501 -\n"
     ]
    },
    {
     "name": "stdout",
     "output_type": "stream",
     "text": [
      "Log data sent to API successfully.\n"
     ]
    },
    {
     "name": "stderr",
     "output_type": "stream",
     "text": [
      "127.0.0.1 - - [08/May/2024 10:54:23] \"GET http://crapi.apisec.ai/ HTTP/1.1\" 200 -\n"
     ]
    },
    {
     "name": "stdout",
     "output_type": "stream",
     "text": [
      "Log data sent to API successfully.\n"
     ]
    },
    {
     "name": "stderr",
     "output_type": "stream",
     "text": [
      "127.0.0.1 - - [08/May/2024 10:54:29] \"GET http://crapi.apisec.ai/static/css/2.a2026422.chunk.css HTTP/1.1\" 200 -\n"
     ]
    },
    {
     "name": "stdout",
     "output_type": "stream",
     "text": [
      "Log data sent to API successfully.\n"
     ]
    },
    {
     "name": "stderr",
     "output_type": "stream",
     "text": [
      "127.0.0.1 - - [08/May/2024 10:54:30] \"GET http://crapi.apisec.ai/static/css/main.fca8df6d.chunk.css HTTP/1.1\" 200 -\n"
     ]
    },
    {
     "name": "stdout",
     "output_type": "stream",
     "text": [
      "Log data sent to API successfully.\n"
     ]
    },
    {
     "name": "stderr",
     "output_type": "stream",
     "text": [
      "127.0.0.1 - - [08/May/2024 10:54:31] \"GET http://crapi.apisec.ai/static/js/main.fd3f1560.chunk.js HTTP/1.1\" 200 -\n"
     ]
    },
    {
     "name": "stdout",
     "output_type": "stream",
     "text": [
      "Log data sent to API successfully.\n"
     ]
    },
    {
     "name": "stderr",
     "output_type": "stream",
     "text": [
      "127.0.0.1 - - [08/May/2024 10:54:44] \"GET http://crapi.apisec.ai/static/js/2.e7093047.chunk.js HTTP/1.1\" 200 -\n",
      "127.0.0.1 - - [08/May/2024 10:54:46] code 501, message Unsupported method ('CONNECT')\n",
      "127.0.0.1 - - [08/May/2024 10:54:46] \"CONNECT spocs.getpocket.com:443 HTTP/1.1\" 501 -\n",
      "127.0.0.1 - - [08/May/2024 10:54:46] code 501, message Unsupported method ('CONNECT')\n",
      "127.0.0.1 - - [08/May/2024 10:54:46] \"CONNECT firefox-api-proxy.cdn.mozilla.net:443 HTTP/1.1\" 501 -\n"
     ]
    },
    {
     "name": "stdout",
     "output_type": "stream",
     "text": [
      "Log data sent to API successfully.\n"
     ]
    },
    {
     "name": "stderr",
     "output_type": "stream",
     "text": [
      "127.0.0.1 - - [08/May/2024 10:55:03] \"GET http://crapi.apisec.ai/%3Cscript%3Ealert(10%3C/script%3E HTTP/1.1\" 403 -\n"
     ]
    },
    {
     "name": "stdout",
     "output_type": "stream",
     "text": [
      "Log data sent to API successfully.\n"
     ]
    },
    {
     "name": "stderr",
     "output_type": "stream",
     "text": [
      "127.0.0.1 - - [08/May/2024 10:55:04] \"GET http://api.ipify.org/?format=json HTTP/1.1\" 200 -\n"
     ]
    },
    {
     "name": "stdout",
     "output_type": "stream",
     "text": [
      "Log data sent to API successfully.\n"
     ]
    },
    {
     "name": "stderr",
     "output_type": "stream",
     "text": [
      "127.0.0.1 - - [08/May/2024 10:55:04] \"GET http://ip-api.com/json/122.187.97.126 HTTP/1.1\" 200 -\n",
      "127.0.0.1 - - [08/May/2024 10:59:46] code 501, message Unsupported method ('CONNECT')\n",
      "127.0.0.1 - - [08/May/2024 10:59:46] \"CONNECT contile.services.mozilla.com:443 HTTP/1.1\" 501 -\n",
      "127.0.0.1 - - [08/May/2024 10:59:46] code 501, message Unsupported method ('CONNECT')\n",
      "127.0.0.1 - - [08/May/2024 10:59:46] \"CONNECT spocs.getpocket.com:443 HTTP/1.1\" 501 -\n",
      "127.0.0.1 - - [08/May/2024 10:59:46] code 501, message Unsupported method ('CONNECT')\n",
      "127.0.0.1 - - [08/May/2024 10:59:46] \"CONNECT firefox-api-proxy.cdn.mozilla.net:443 HTTP/1.1\" 501 -\n",
      "127.0.0.1 - - [08/May/2024 11:04:46] code 501, message Unsupported method ('CONNECT')\n",
      "127.0.0.1 - - [08/May/2024 11:04:46] \"CONNECT spocs.getpocket.com:443 HTTP/1.1\" 501 -\n",
      "127.0.0.1 - - [08/May/2024 11:04:46] code 501, message Unsupported method ('CONNECT')\n",
      "127.0.0.1 - - [08/May/2024 11:04:46] \"CONNECT firefox-api-proxy.cdn.mozilla.net:443 HTTP/1.1\" 501 -\n",
      "127.0.0.1 - - [08/May/2024 11:07:18] code 501, message Unsupported method ('CONNECT')\n",
      "127.0.0.1 - - [08/May/2024 11:07:18] \"CONNECT push.services.mozilla.com:443 HTTP/1.1\" 501 -\n",
      "127.0.0.1 - - [08/May/2024 11:09:46] code 501, message Unsupported method ('CONNECT')\n",
      "127.0.0.1 - - [08/May/2024 11:09:46] \"CONNECT spocs.getpocket.com:443 HTTP/1.1\" 501 -\n",
      "127.0.0.1 - - [08/May/2024 11:09:46] code 501, message Unsupported method ('CONNECT')\n",
      "127.0.0.1 - - [08/May/2024 11:09:46] \"CONNECT firefox-api-proxy.cdn.mozilla.net:443 HTTP/1.1\" 501 -\n",
      "127.0.0.1 - - [08/May/2024 11:24:40] code 501, message Unsupported method ('CONNECT')\n",
      "127.0.0.1 - - [08/May/2024 11:24:40] \"CONNECT contile.services.mozilla.com:443 HTTP/1.1\" 501 -\n",
      "127.0.0.1 - - [08/May/2024 11:24:40] code 501, message Unsupported method ('CONNECT')\n",
      "127.0.0.1 - - [08/May/2024 11:24:40] \"CONNECT spocs.getpocket.com:443 HTTP/1.1\" 501 -\n",
      "127.0.0.1 - - [08/May/2024 11:24:40] code 501, message Unsupported method ('CONNECT')\n",
      "127.0.0.1 - - [08/May/2024 11:24:40] \"CONNECT firefox-api-proxy.cdn.mozilla.net:443 HTTP/1.1\" 501 -\n",
      "127.0.0.1 - - [08/May/2024 11:24:40] code 501, message Unsupported method ('CONNECT')\n",
      "127.0.0.1 - - [08/May/2024 11:24:40] \"CONNECT incoming.telemetry.mozilla.org:443 HTTP/1.1\" 501 -\n",
      "127.0.0.1 - - [08/May/2024 11:24:40] code 501, message Unsupported method ('CONNECT')\n",
      "127.0.0.1 - - [08/May/2024 11:24:40] \"CONNECT incoming.telemetry.mozilla.org:443 HTTP/1.1\" 501 -\n",
      "127.0.0.1 - - [08/May/2024 11:24:40] code 501, message Unsupported method ('CONNECT')\n",
      "127.0.0.1 - - [08/May/2024 11:24:40] \"CONNECT incoming.telemetry.mozilla.org:443 HTTP/1.1\" 501 -\n"
     ]
    },
    {
     "name": "stdout",
     "output_type": "stream",
     "text": [
      "Log data sent to API successfully.\n"
     ]
    },
    {
     "name": "stderr",
     "output_type": "stream",
     "text": [
      "127.0.0.1 - - [08/May/2024 11:24:55] \"GET http://crapi.apisec.ai/%3Ca%20href=%22javas/x0Bcript:javascript:alert(1)%22%20id=%22fuzzelement1%22%3Etest%3C/a%3E HTTP/1.1\" 403 -\n"
     ]
    },
    {
     "name": "stdout",
     "output_type": "stream",
     "text": [
      "Log data sent to API successfully.\n"
     ]
    },
    {
     "name": "stderr",
     "output_type": "stream",
     "text": [
      "127.0.0.1 - - [08/May/2024 11:24:56] \"GET http://api.ipify.org/?format=json HTTP/1.1\" 200 -\n",
      "127.0.0.1 - - [08/May/2024 11:24:56] code 501, message Unsupported method ('CONNECT')\n",
      "127.0.0.1 - - [08/May/2024 11:24:56] \"CONNECT firefox.settings.services.mozilla.com:443 HTTP/1.1\" 501 -\n",
      "127.0.0.1 - - [08/May/2024 11:24:56] code 501, message Unsupported method ('CONNECT')\n",
      "127.0.0.1 - - [08/May/2024 11:24:56] \"CONNECT firefox.settings.services.mozilla.com:443 HTTP/1.1\" 501 -\n"
     ]
    },
    {
     "name": "stdout",
     "output_type": "stream",
     "text": [
      "Log data sent to API successfully.\n"
     ]
    },
    {
     "name": "stderr",
     "output_type": "stream",
     "text": [
      "127.0.0.1 - - [08/May/2024 11:24:57] \"GET http://ip-api.com/json/122.187.97.126 HTTP/1.1\" 200 -\n",
      "127.0.0.1 - - [08/May/2024 11:24:57] code 501, message Unsupported method ('CONNECT')\n",
      "127.0.0.1 - - [08/May/2024 11:24:57] \"CONNECT incoming.telemetry.mozilla.org:443 HTTP/1.1\" 501 -\n",
      "127.0.0.1 - - [08/May/2024 11:24:57] code 501, message Unsupported method ('CONNECT')\n",
      "127.0.0.1 - - [08/May/2024 11:24:57] \"CONNECT incoming.telemetry.mozilla.org:443 HTTP/1.1\" 501 -\n",
      "127.0.0.1 - - [08/May/2024 11:24:57] code 501, message Unsupported method ('CONNECT')\n",
      "127.0.0.1 - - [08/May/2024 11:24:57] \"CONNECT incoming.telemetry.mozilla.org:443 HTTP/1.1\" 501 -\n",
      "127.0.0.1 - - [08/May/2024 11:25:26] code 501, message Unsupported method ('CONNECT')\n",
      "127.0.0.1 - - [08/May/2024 11:25:26] \"CONNECT incoming.telemetry.mozilla.org:443 HTTP/1.1\" 501 -\n",
      "127.0.0.1 - - [08/May/2024 11:25:35] code 501, message Unsupported method ('CONNECT')\n",
      "127.0.0.1 - - [08/May/2024 11:25:35] \"CONNECT www.google.com:443 HTTP/1.1\" 501 -\n",
      "127.0.0.1 - - [08/May/2024 11:25:35] code 501, message Unsupported method ('CONNECT')\n",
      "127.0.0.1 - - [08/May/2024 11:25:35] \"CONNECT www.google.com:443 HTTP/1.1\" 501 -\n"
     ]
    },
    {
     "name": "stdout",
     "output_type": "stream",
     "text": [
      "Log data sent to API successfully.\n"
     ]
    },
    {
     "name": "stderr",
     "output_type": "stream",
     "text": [
      "127.0.0.1 - - [08/May/2024 11:25:36] \"GET http://demo.testfire.net/ HTTP/1.1\" 200 -\n"
     ]
    },
    {
     "name": "stdout",
     "output_type": "stream",
     "text": [
      "Log data sent to API successfully.\n"
     ]
    },
    {
     "name": "stderr",
     "output_type": "stream",
     "text": [
      "127.0.0.1 - - [08/May/2024 11:25:37] \"GET http://demo.testfire.net/style.css HTTP/1.1\" 200 -\n"
     ]
    },
    {
     "name": "stdout",
     "output_type": "stream",
     "text": [
      "Log data sent to API successfully.\n"
     ]
    },
    {
     "name": "stderr",
     "output_type": "stream",
     "text": [
      "127.0.0.1 - - [08/May/2024 11:25:39] \"GET http://demo.testfire.net/images/logo.gif HTTP/1.1\" 200 -\n"
     ]
    },
    {
     "name": "stdout",
     "output_type": "stream",
     "text": [
      "Log data sent to API successfully.\n"
     ]
    },
    {
     "name": "stderr",
     "output_type": "stream",
     "text": [
      "127.0.0.1 - - [08/May/2024 11:25:39] \"GET http://demo.testfire.net/images/home3.jpg HTTP/1.1\" 200 -\n"
     ]
    },
    {
     "name": "stdout",
     "output_type": "stream",
     "text": [
      "Log data sent to API successfully.\n"
     ]
    },
    {
     "name": "stderr",
     "output_type": "stream",
     "text": [
      "127.0.0.1 - - [08/May/2024 11:25:40] \"GET http://demo.testfire.net/images/home2.jpg HTTP/1.1\" 200 -\n"
     ]
    },
    {
     "name": "stdout",
     "output_type": "stream",
     "text": [
      "Log data sent to API successfully.\n"
     ]
    },
    {
     "name": "stderr",
     "output_type": "stream",
     "text": [
      "127.0.0.1 - - [08/May/2024 11:25:41] \"GET http://demo.testfire.net/images/home1.jpg HTTP/1.1\" 200 -\n"
     ]
    },
    {
     "name": "stdout",
     "output_type": "stream",
     "text": [
      "Log data sent to API successfully.\n"
     ]
    },
    {
     "name": "stderr",
     "output_type": "stream",
     "text": [
      "127.0.0.1 - - [08/May/2024 11:25:42] \"GET http://demo.testfire.net/images/pf_lock.gif HTTP/1.1\" 200 -\n"
     ]
    },
    {
     "name": "stdout",
     "output_type": "stream",
     "text": [
      "Log data sent to API successfully.\n"
     ]
    },
    {
     "name": "stderr",
     "output_type": "stream",
     "text": [
      "127.0.0.1 - - [08/May/2024 11:25:43] \"GET http://demo.testfire.net/images/header_pic.jpg HTTP/1.1\" 200 -\n"
     ]
    },
    {
     "name": "stdout",
     "output_type": "stream",
     "text": [
      "Log data sent to API successfully.\n"
     ]
    },
    {
     "name": "stderr",
     "output_type": "stream",
     "text": [
      "127.0.0.1 - - [08/May/2024 11:25:44] \"GET http://demo.testfire.net/images/gradient.jpg HTTP/1.1\" 200 -\n"
     ]
    },
    {
     "name": "stdout",
     "output_type": "stream",
     "text": [
      "Log data sent to API successfully.\n"
     ]
    },
    {
     "name": "stderr",
     "output_type": "stream",
     "text": [
      "127.0.0.1 - - [08/May/2024 11:25:48] \"GET http://demo.testfire.net/search.jsp?query=hello HTTP/1.1\" 200 -\n"
     ]
    },
    {
     "name": "stdout",
     "output_type": "stream",
     "text": [
      "Log data sent to API successfully.\n"
     ]
    },
    {
     "name": "stderr",
     "output_type": "stream",
     "text": [
      "127.0.0.1 - - [08/May/2024 11:25:49] \"GET http://demo.testfire.net/style.css HTTP/1.1\" 200 -\n"
     ]
    },
    {
     "name": "stdout",
     "output_type": "stream",
     "text": [
      "Log data sent to API successfully.\n"
     ]
    },
    {
     "name": "stderr",
     "output_type": "stream",
     "text": [
      "127.0.0.1 - - [08/May/2024 11:25:51] \"GET http://demo.testfire.net/images/logo.gif HTTP/1.1\" 200 -\n"
     ]
    },
    {
     "name": "stdout",
     "output_type": "stream",
     "text": [
      "Log data sent to API successfully.\n"
     ]
    },
    {
     "name": "stderr",
     "output_type": "stream",
     "text": [
      "127.0.0.1 - - [08/May/2024 11:25:52] \"GET http://demo.testfire.net/images/header_pic.jpg HTTP/1.1\" 200 -\n"
     ]
    },
    {
     "name": "stdout",
     "output_type": "stream",
     "text": [
      "Log data sent to API successfully.\n"
     ]
    },
    {
     "name": "stderr",
     "output_type": "stream",
     "text": [
      "127.0.0.1 - - [08/May/2024 11:25:52] \"GET http://demo.testfire.net/images/pf_lock.gif HTTP/1.1\" 200 -\n"
     ]
    },
    {
     "name": "stdout",
     "output_type": "stream",
     "text": [
      "Log data sent to API successfully.\n"
     ]
    },
    {
     "name": "stderr",
     "output_type": "stream",
     "text": [
      "127.0.0.1 - - [08/May/2024 11:25:53] \"GET http://demo.testfire.net/images/gradient.jpg HTTP/1.1\" 200 -\n"
     ]
    },
    {
     "name": "stdout",
     "output_type": "stream",
     "text": [
      "Log data sent to API successfully.\n"
     ]
    },
    {
     "name": "stderr",
     "output_type": "stream",
     "text": [
      "127.0.0.1 - - [08/May/2024 11:25:58] \"GET http://demo.testfire.net/search.jsp?query=-1+UNION+SELECT+1+INTO+%40%2C%40 HTTP/1.1\" 200 -\n"
     ]
    },
    {
     "name": "stdout",
     "output_type": "stream",
     "text": [
      "Log data sent to API successfully.\n"
     ]
    },
    {
     "name": "stderr",
     "output_type": "stream",
     "text": [
      "127.0.0.1 - - [08/May/2024 11:25:58] \"GET http://demo.testfire.net/style.css HTTP/1.1\" 200 -\n"
     ]
    },
    {
     "name": "stdout",
     "output_type": "stream",
     "text": [
      "Log data sent to API successfully.\n"
     ]
    },
    {
     "name": "stderr",
     "output_type": "stream",
     "text": [
      "127.0.0.1 - - [08/May/2024 11:26:00] \"GET http://demo.testfire.net/images/logo.gif HTTP/1.1\" 200 -\n"
     ]
    },
    {
     "name": "stdout",
     "output_type": "stream",
     "text": [
      "Log data sent to API successfully.\n"
     ]
    },
    {
     "name": "stderr",
     "output_type": "stream",
     "text": [
      "127.0.0.1 - - [08/May/2024 11:26:01] \"GET http://demo.testfire.net/images/header_pic.jpg HTTP/1.1\" 200 -\n"
     ]
    },
    {
     "name": "stdout",
     "output_type": "stream",
     "text": [
      "Log data sent to API successfully.\n"
     ]
    },
    {
     "name": "stderr",
     "output_type": "stream",
     "text": [
      "127.0.0.1 - - [08/May/2024 11:26:02] \"GET http://demo.testfire.net/images/pf_lock.gif HTTP/1.1\" 200 -\n"
     ]
    },
    {
     "name": "stdout",
     "output_type": "stream",
     "text": [
      "Log data sent to API successfully.\n"
     ]
    },
    {
     "name": "stderr",
     "output_type": "stream",
     "text": [
      "127.0.0.1 - - [08/May/2024 11:26:02] \"GET http://demo.testfire.net/images/gradient.jpg HTTP/1.1\" 200 -\n"
     ]
    },
    {
     "name": "stdout",
     "output_type": "stream",
     "text": [
      "Log data sent to API successfully.\n"
     ]
    },
    {
     "name": "stderr",
     "output_type": "stream",
     "text": [
      "127.0.0.1 - - [08/May/2024 11:26:10] \"GET http://demo.testfire.net/search.jsp?query=-1%20UNION%20SELECT%201%20INTO%20@,@ HTTP/1.1\" 403 -\n"
     ]
    },
    {
     "name": "stdout",
     "output_type": "stream",
     "text": [
      "Log data sent to API successfully.\n"
     ]
    },
    {
     "name": "stderr",
     "output_type": "stream",
     "text": [
      "127.0.0.1 - - [08/May/2024 11:26:11] \"GET http://api.ipify.org/?format=json HTTP/1.1\" 200 -\n"
     ]
    },
    {
     "name": "stdout",
     "output_type": "stream",
     "text": [
      "Log data sent to API successfully.\n"
     ]
    },
    {
     "name": "stderr",
     "output_type": "stream",
     "text": [
      "127.0.0.1 - - [08/May/2024 11:26:12] \"GET http://ip-api.com/json/122.187.97.126 HTTP/1.1\" 200 -\n",
      "127.0.0.1 - - [08/May/2024 11:36:19] code 501, message Unsupported method ('CONNECT')\n",
      "127.0.0.1 - - [08/May/2024 11:36:19] \"CONNECT spocs.getpocket.com:443 HTTP/1.1\" 501 -\n",
      "127.0.0.1 - - [08/May/2024 11:36:19] code 501, message Unsupported method ('CONNECT')\n",
      "127.0.0.1 - - [08/May/2024 11:36:19] \"CONNECT firefox-api-proxy.cdn.mozilla.net:443 HTTP/1.1\" 501 -\n"
     ]
    },
    {
     "name": "stdout",
     "output_type": "stream",
     "text": [
      "Log data sent to API successfully.\n"
     ]
    },
    {
     "name": "stderr",
     "output_type": "stream",
     "text": [
      "127.0.0.1 - - [08/May/2024 11:36:22] \"GET http://demo.testfire.net/search.jsp?query=-1%20UNION%20SELECT%201%20INTO%20@,@ HTTP/1.1\" 403 -\n"
     ]
    },
    {
     "name": "stdout",
     "output_type": "stream",
     "text": [
      "Log data sent to API successfully.\n"
     ]
    },
    {
     "name": "stderr",
     "output_type": "stream",
     "text": [
      "127.0.0.1 - - [08/May/2024 11:36:23] \"GET http://api.ipify.org/?format=json HTTP/1.1\" 200 -\n"
     ]
    },
    {
     "name": "stdout",
     "output_type": "stream",
     "text": [
      "Log data sent to API successfully.\n"
     ]
    },
    {
     "name": "stderr",
     "output_type": "stream",
     "text": [
      "127.0.0.1 - - [08/May/2024 11:36:24] \"GET http://ip-api.com/json/122.187.97.126 HTTP/1.1\" 200 -\n",
      "127.0.0.1 - - [08/May/2024 11:36:33] code 501, message Unsupported method ('CONNECT')\n",
      "127.0.0.1 - - [08/May/2024 11:36:33] \"CONNECT www.google.com:443 HTTP/1.1\" 501 -\n"
     ]
    },
    {
     "name": "stdout",
     "output_type": "stream",
     "text": [
      "Log data sent to API successfully.\n"
     ]
    },
    {
     "name": "stderr",
     "output_type": "stream",
     "text": [
      "127.0.0.1 - - [08/May/2024 11:36:35] \"GET http://demo.testfire.net/ HTTP/1.1\" 200 -\n"
     ]
    },
    {
     "name": "stdout",
     "output_type": "stream",
     "text": [
      "Log data sent to API successfully.\n"
     ]
    },
    {
     "name": "stderr",
     "output_type": "stream",
     "text": [
      "127.0.0.1 - - [08/May/2024 11:36:36] \"GET http://demo.testfire.net/style.css HTTP/1.1\" 200 -\n"
     ]
    },
    {
     "name": "stdout",
     "output_type": "stream",
     "text": [
      "Log data sent to API successfully.\n"
     ]
    },
    {
     "name": "stderr",
     "output_type": "stream",
     "text": [
      "127.0.0.1 - - [08/May/2024 11:36:37] \"GET http://demo.testfire.net/images/logo.gif HTTP/1.1\" 200 -\n"
     ]
    },
    {
     "name": "stdout",
     "output_type": "stream",
     "text": [
      "Log data sent to API successfully.\n"
     ]
    },
    {
     "name": "stderr",
     "output_type": "stream",
     "text": [
      "127.0.0.1 - - [08/May/2024 11:36:38] \"GET http://demo.testfire.net/images/header_pic.jpg HTTP/1.1\" 200 -\n"
     ]
    },
    {
     "name": "stdout",
     "output_type": "stream",
     "text": [
      "Log data sent to API successfully.\n"
     ]
    },
    {
     "name": "stderr",
     "output_type": "stream",
     "text": [
      "127.0.0.1 - - [08/May/2024 11:36:39] \"GET http://demo.testfire.net/images/pf_lock.gif HTTP/1.1\" 200 -\n"
     ]
    },
    {
     "name": "stdout",
     "output_type": "stream",
     "text": [
      "Log data sent to API successfully.\n"
     ]
    },
    {
     "name": "stderr",
     "output_type": "stream",
     "text": [
      "127.0.0.1 - - [08/May/2024 11:36:40] \"GET http://demo.testfire.net/images/home3.jpg HTTP/1.1\" 200 -\n"
     ]
    },
    {
     "name": "stdout",
     "output_type": "stream",
     "text": [
      "Log data sent to API successfully.\n"
     ]
    },
    {
     "name": "stderr",
     "output_type": "stream",
     "text": [
      "127.0.0.1 - - [08/May/2024 11:36:41] \"GET http://demo.testfire.net/images/home2.jpg HTTP/1.1\" 200 -\n"
     ]
    },
    {
     "name": "stdout",
     "output_type": "stream",
     "text": [
      "Log data sent to API successfully.\n"
     ]
    },
    {
     "name": "stderr",
     "output_type": "stream",
     "text": [
      "127.0.0.1 - - [08/May/2024 11:36:42] \"GET http://demo.testfire.net/images/home1.jpg HTTP/1.1\" 200 -\n"
     ]
    },
    {
     "name": "stdout",
     "output_type": "stream",
     "text": [
      "Log data sent to API successfully.\n"
     ]
    },
    {
     "name": "stderr",
     "output_type": "stream",
     "text": [
      "127.0.0.1 - - [08/May/2024 11:36:43] \"GET http://demo.testfire.net/images/gradient.jpg HTTP/1.1\" 200 -\n",
      "127.0.0.1 - - [08/May/2024 11:37:18] code 501, message Unsupported method ('CONNECT')\n",
      "127.0.0.1 - - [08/May/2024 11:37:18] \"CONNECT push.services.mozilla.com:443 HTTP/1.1\" 501 -\n",
      "127.0.0.1 - - [08/May/2024 11:41:22] code 501, message Unsupported method ('CONNECT')\n",
      "127.0.0.1 - - [08/May/2024 11:41:22] \"CONNECT contile.services.mozilla.com:443 HTTP/1.1\" 501 -\n",
      "127.0.0.1 - - [08/May/2024 11:41:22] code 501, message Unsupported method ('CONNECT')\n",
      "127.0.0.1 - - [08/May/2024 11:41:22] \"CONNECT spocs.getpocket.com:443 HTTP/1.1\" 501 -\n",
      "127.0.0.1 - - [08/May/2024 11:41:22] code 501, message Unsupported method ('CONNECT')\n",
      "127.0.0.1 - - [08/May/2024 11:41:22] \"CONNECT firefox-api-proxy.cdn.mozilla.net:443 HTTP/1.1\" 501 -\n",
      "127.0.0.1 - - [08/May/2024 11:46:47] code 501, message Unsupported method ('CONNECT')\n",
      "127.0.0.1 - - [08/May/2024 11:46:47] \"CONNECT spocs.getpocket.com:443 HTTP/1.1\" 501 -\n",
      "127.0.0.1 - - [08/May/2024 11:46:47] code 501, message Unsupported method ('CONNECT')\n",
      "127.0.0.1 - - [08/May/2024 11:46:47] \"CONNECT firefox-api-proxy.cdn.mozilla.net:443 HTTP/1.1\" 501 -\n"
     ]
    },
    {
     "name": "stdout",
     "output_type": "stream",
     "text": [
      "Log data sent to API successfully.\n"
     ]
    },
    {
     "name": "stderr",
     "output_type": "stream",
     "text": [
      "127.0.0.1 - - [08/May/2024 11:47:05] \"GET http://demo.testfire.net/search.jsp?query=hello HTTP/1.1\" 200 -\n"
     ]
    },
    {
     "name": "stdout",
     "output_type": "stream",
     "text": [
      "Log data sent to API successfully.\n"
     ]
    },
    {
     "name": "stderr",
     "output_type": "stream",
     "text": [
      "127.0.0.1 - - [08/May/2024 11:47:06] \"GET http://demo.testfire.net/style.css HTTP/1.1\" 200 -\n"
     ]
    },
    {
     "name": "stdout",
     "output_type": "stream",
     "text": [
      "Log data sent to API successfully.\n"
     ]
    },
    {
     "name": "stderr",
     "output_type": "stream",
     "text": [
      "127.0.0.1 - - [08/May/2024 11:47:07] \"GET http://demo.testfire.net/images/logo.gif HTTP/1.1\" 200 -\n"
     ]
    },
    {
     "name": "stdout",
     "output_type": "stream",
     "text": [
      "Log data sent to API successfully.\n"
     ]
    },
    {
     "name": "stderr",
     "output_type": "stream",
     "text": [
      "127.0.0.1 - - [08/May/2024 11:47:08] \"GET http://demo.testfire.net/images/header_pic.jpg HTTP/1.1\" 200 -\n"
     ]
    },
    {
     "name": "stdout",
     "output_type": "stream",
     "text": [
      "Log data sent to API successfully.\n"
     ]
    },
    {
     "name": "stderr",
     "output_type": "stream",
     "text": [
      "127.0.0.1 - - [08/May/2024 11:47:09] \"GET http://demo.testfire.net/images/pf_lock.gif HTTP/1.1\" 200 -\n"
     ]
    },
    {
     "name": "stdout",
     "output_type": "stream",
     "text": [
      "Log data sent to API successfully.\n"
     ]
    },
    {
     "name": "stderr",
     "output_type": "stream",
     "text": [
      "127.0.0.1 - - [08/May/2024 11:47:10] \"GET http://demo.testfire.net/images/gradient.jpg HTTP/1.1\" 200 -\n"
     ]
    },
    {
     "name": "stdout",
     "output_type": "stream",
     "text": [
      "Log data sent to API successfully.\n"
     ]
    },
    {
     "name": "stderr",
     "output_type": "stream",
     "text": [
      "127.0.0.1 - - [08/May/2024 11:47:42] \"GET http://demo.testfire.net/search.jsp?query=-1%20UNION%20SELECT%201%20INTO%20@,@ HTTP/1.1\" 403 -\n"
     ]
    },
    {
     "name": "stdout",
     "output_type": "stream",
     "text": [
      "Log data sent to API successfully.\n"
     ]
    },
    {
     "name": "stderr",
     "output_type": "stream",
     "text": [
      "127.0.0.1 - - [08/May/2024 11:47:43] \"GET http://api.ipify.org/?format=json HTTP/1.1\" 200 -\n"
     ]
    },
    {
     "name": "stdout",
     "output_type": "stream",
     "text": [
      "Log data sent to API successfully.\n"
     ]
    },
    {
     "name": "stderr",
     "output_type": "stream",
     "text": [
      "127.0.0.1 - - [08/May/2024 11:47:44] \"GET http://ip-api.com/json/122.187.97.126 HTTP/1.1\" 200 -\n",
      "127.0.0.1 - - [08/May/2024 11:48:24] code 501, message Unsupported method ('CONNECT')\n",
      "127.0.0.1 - - [08/May/2024 11:48:24] \"CONNECT shavar.services.mozilla.com:443 HTTP/1.1\" 501 -\n",
      "127.0.0.1 - - [08/May/2024 11:50:39] code 501, message Unsupported method ('CONNECT')\n",
      "127.0.0.1 - - [08/May/2024 11:50:39] \"CONNECT safebrowsing.googleapis.com:443 HTTP/1.1\" 501 -\n",
      "127.0.0.1 - - [08/May/2024 11:51:47] code 501, message Unsupported method ('CONNECT')\n",
      "127.0.0.1 - - [08/May/2024 11:51:47] \"CONNECT spocs.getpocket.com:443 HTTP/1.1\" 501 -\n",
      "127.0.0.1 - - [08/May/2024 11:51:47] code 501, message Unsupported method ('CONNECT')\n",
      "127.0.0.1 - - [08/May/2024 11:51:47] \"CONNECT firefox-api-proxy.cdn.mozilla.net:443 HTTP/1.1\" 501 -\n",
      "127.0.0.1 - - [08/May/2024 11:56:47] code 501, message Unsupported method ('CONNECT')\n",
      "127.0.0.1 - - [08/May/2024 11:56:47] \"CONNECT contile.services.mozilla.com:443 HTTP/1.1\" 501 -\n",
      "127.0.0.1 - - [08/May/2024 11:56:47] code 501, message Unsupported method ('CONNECT')\n",
      "127.0.0.1 - - [08/May/2024 11:56:47] \"CONNECT spocs.getpocket.com:443 HTTP/1.1\" 501 -\n",
      "127.0.0.1 - - [08/May/2024 11:56:47] code 501, message Unsupported method ('CONNECT')\n",
      "127.0.0.1 - - [08/May/2024 11:56:47] \"CONNECT firefox-api-proxy.cdn.mozilla.net:443 HTTP/1.1\" 501 -\n"
     ]
    }
   ],
   "source": [
    "if __name__ == '__main__':\n",
    "    server_address = ('', 1234)\n",
    "    httpd = HTTPServer(server_address, SimpleHttpProxy)\n",
    "    httpd.serve_forever()\n",
    "    print(\"Server Started on port: 1234\")"
   ]
  },
  {
   "cell_type": "code",
   "execution_count": null,
   "id": "50d5be20-6702-4df0-bd09-3d2db76b85a2",
   "metadata": {},
   "outputs": [],
   "source": []
  },
  {
   "cell_type": "code",
   "execution_count": null,
   "id": "981cedde-8e78-4c94-a2c6-ec1258d7ebaf",
   "metadata": {},
   "outputs": [],
   "source": []
  },
  {
   "cell_type": "code",
   "execution_count": null,
   "id": "17e37938-d550-4c95-a06f-e96c0c9e61aa",
   "metadata": {},
   "outputs": [],
   "source": []
  }
 ],
 "metadata": {
  "kernelspec": {
   "display_name": "Python 3 (ipykernel)",
   "language": "python",
   "name": "python3"
  },
  "language_info": {
   "codemirror_mode": {
    "name": "ipython",
    "version": 3
   },
   "file_extension": ".py",
   "mimetype": "text/x-python",
   "name": "python",
   "nbconvert_exporter": "python",
   "pygments_lexer": "ipython3",
   "version": "3.11.5"
  }
 },
 "nbformat": 4,
 "nbformat_minor": 5
}
